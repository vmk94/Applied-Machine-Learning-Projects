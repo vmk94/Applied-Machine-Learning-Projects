{
 "cells": [
  {
   "cell_type": "markdown",
   "metadata": {},
   "source": [
    "# Imdb Sentiment Analysis - Group 7"
   ]
  },
  {
   "cell_type": "markdown",
   "metadata": {},
   "source": [
    "Import Necessary modules"
   ]
  },
  {
   "cell_type": "code",
   "execution_count": 1,
   "metadata": {},
   "outputs": [],
   "source": [
    "import os\n",
    "import numpy as np\n",
    "import matplotlib.pyplot as plt\n",
    "import pandas as pd\n",
    "from sklearn.pipeline import Pipeline\n",
    "from sklearn.model_selection import GridSearchCV\n",
    "from sklearn.metrics import accuracy_score"
   ]
  },
  {
   "cell_type": "markdown",
   "metadata": {},
   "source": [
    "Upload all data into dataframe."
   ]
  },
  {
   "cell_type": "code",
   "execution_count": 2,
   "metadata": {},
   "outputs": [],
   "source": [
    "base_path = 'aclImdb'\n",
    "\n",
    "labels = {'pos':1,'neg':0}\n",
    "\n",
    "#Declare Dataframes for Traning and Testing Datasets\n",
    "df_train = pd.DataFrame(columns=['data', 'label'])\n",
    "df_test = pd.DataFrame(columns=['data', 'label'])\n",
    "\n",
    "#Extract data from train folder \n",
    "for i in ('neg','pos'):\n",
    "    path = os.path.join(base_path,'train',i)\n",
    "    for filename in os.listdir(path):\n",
    "        with open(os.path.join(path,filename),'r',encoding = 'utf-8') as infile:\n",
    "            text = infile.read()    \n",
    "        df_train = df_train.append({'data':text,'label':labels[i]},ignore_index=True)\n",
    "#Extract data from test folder\n",
    "for i in ('neg','pos'):\n",
    "    path = os.path.join(base_path,'test',i)\n",
    "    for filename in os.listdir(path):\n",
    "        with open(os.path.join(path,filename),'r',encoding = 'utf-8') as infile:\n",
    "            text = infile.read()    \n",
    "        df_test = df_test.append({'data':text,'label':labels[i]},ignore_index=True)\n"
   ]
  },
  {
   "cell_type": "code",
   "execution_count": 3,
   "metadata": {},
   "outputs": [],
   "source": [
    "#Save data in csv file\n",
    "df_train.to_csv('imdb_d-set_train.csv')\n",
    "df_test.to_csv('imdb_d-set_test.csv')"
   ]
  },
  {
   "cell_type": "code",
   "execution_count": 4,
   "metadata": {},
   "outputs": [],
   "source": [
    "#Upload train and test datasets from csv\n",
    "df_train = pd.read_csv('imdb_d-set_train.csv')\n",
    "df_test = pd.read_csv('imdb_d-set_test.csv')"
   ]
  },
  {
   "cell_type": "markdown",
   "metadata": {},
   "source": [
    "Training set distribution - Plot"
   ]
  },
  {
   "cell_type": "code",
   "execution_count": 5,
   "metadata": {},
   "outputs": [
    {
     "data": {
      "image/png": "[encoded data removed]",
      "text/plain": [
       "<Figure size 720x720 with 1 Axes>"
      ]
     },
     "metadata": {},
     "output_type": "display_data"
    }
   ],
   "source": [
    "Target, counts = np.unique(df_train['label'], return_counts =True)\n",
    "\n",
    "Total_Instances = counts[0]+counts[1]\n",
    "Bad_Percent = (counts[0]/Total_Instances)*100\n",
    "Good_Percent = (counts[1]/Total_Instances)*100\n",
    "\n",
    "col = 'g','c'\n",
    "Plot_Lables = 'Bad','Good'\n",
    "Plot_Sizes = [Bad_Percent, Good_Percent]\n",
    "plt.figure(figsize=(10, 10))\n",
    "plt.title('Imdb sentiment analysis data distribution',bbox={'facecolor':'0.8', 'pad':5},x=0.5,y=0.8)\n",
    "plt.pie(Plot_Sizes,labels=Plot_Lables,radius=0.5,colors=col, autopct='%1.2f%%', startangle=90)\n",
    "plt.savefig('Target_Distribution.png')\n",
    "plt.tight_layout()\n",
    "plt.show()"
   ]
  },
  {
   "cell_type": "markdown",
   "metadata": {},
   "source": [
    "Data Cleaning and Processing."
   ]
  },
  {
   "cell_type": "code",
   "execution_count": 6,
   "metadata": {},
   "outputs": [
    {
     "name": "stderr",
     "output_type": "stream",
     "text": [
      "[nltk_data] Downloading package stopwords to\n",
      "[nltk_data]     C:\\Users\\mk\\AppData\\Roaming\\nltk_data...\n",
      "[nltk_data]   Package stopwords is already up-to-date!\n",
      "[nltk_data] Downloading package wordnet to\n",
      "[nltk_data]     C:\\Users\\mk\\AppData\\Roaming\\nltk_data...\n",
      "[nltk_data]   Package wordnet is already up-to-date!\n"
     ]
    }
   ],
   "source": [
    "import nltk\n",
    "import re\n",
    "\n",
    "dataSet_train = df_train ['data']\n",
    "dataSet_test = df_test ['data']\n",
    "\n",
    "#Lowercase all data\n",
    "dataSet_train= dataSet_train.map(lambda x: x.lower())\n",
    "dataSet_test= dataSet_test.map(lambda x: x.lower())\n",
    "\n",
    "#Remove-Stopwords\n",
    "from nltk.corpus import stopwords\n",
    "nltk.download('stopwords')\n",
    "stopWord = stopwords.words('english')\n",
    "dataSet_train.apply(lambda x: [item for item in x if item not in stopWord])\n",
    "dataSet_test.apply(lambda x: [item for item in x if item not in stopWord])\n",
    "\n",
    "#Cleanup\n",
    "def cleanup(text):\n",
    "    pattern=r'[^a-zA-z0-9\\s]'\n",
    "    text=re.sub(pattern,'',text)\n",
    "    return re.sub('\\[[^]]*\\]', '', text)\n",
    "\n",
    "dataSet_train = dataSet_train.apply(cleanup)\n",
    "dataSet_test = dataSet_test.apply(cleanup)\n",
    "\n",
    "#Lemma\n",
    "from nltk.stem import WordNetLemmatizer\n",
    "nltk.download('wordnet')\n",
    "wordnet_lemmatizer = WordNetLemmatizer()\n",
    "dataSet_train = [wordnet_lemmatizer.lemmatize(word) for word in dataSet_train]\n",
    "dataSet_test = [wordnet_lemmatizer.lemmatize(word) for word in dataSet_test]\n",
    "\n",
    "#Stem\n",
    "from nltk.stem import SnowballStemmer\n",
    "stemmer = SnowballStemmer('english')\n",
    "dataSet_train = [stemmer.stem(word) for word in dataSet_train]\n",
    "dataSet_test = [stemmer.stem(word) for word in dataSet_test]\n",
    "\n",
    "#Fit-data\n",
    "from sklearn.feature_extraction.text import CountVectorizer\n",
    "from sklearn.feature_extraction.text import TfidfTransformer\n",
    "\n",
    "train_label = df_train['label']\n",
    "Y_train = train_label.astype('int')\n",
    "vector = CountVectorizer(binary=True, ngram_range=(1,2))\n",
    "train_data = vector.fit_transform(dataSet_train)\n",
    "tfidf_transformer = TfidfTransformer()\n",
    "X_train = tfidf_transformer.fit_transform(train_data)\n",
    "\n",
    "test_label = df_test['label']\n",
    "Y_test = train_label.astype('int')\n",
    "test_data = vector.transform(dataSet_test)\n",
    "X_test = tfidf_transformer.transform(test_data)"
   ]
  },
  {
   "cell_type": "markdown",
   "metadata": {},
   "source": [
    "Shuffle train dataset"
   ]
  },
  {
   "cell_type": "code",
   "execution_count": 7,
   "metadata": {},
   "outputs": [],
   "source": [
    "from sklearn.utils import shuffle\n",
    "\n",
    "X_train,Y_train= shuffle (X_train,Y_train, random_state = 10)"
   ]
  },
  {
   "cell_type": "markdown",
   "metadata": {},
   "source": [
    "ML Models:\n",
    "\n",
    "1. Logistic Regression"
   ]
  },
  {
   "cell_type": "code",
   "execution_count": 8,
   "metadata": {},
   "outputs": [
    {
     "name": "stdout",
     "output_type": "stream",
     "text": [
      "[86.    88.9   89.9   90.136]\n",
      "Best_Parameter: {'lr_clf__C': 10}\n",
      "Accuracy_LR: 0.90612\n"
     ]
    }
   ],
   "source": [
    "from sklearn.linear_model import LogisticRegression\n",
    "\n",
    "#Use GridSearch Cross Validation to tune the hyperparameters \n",
    "log_pipe = Pipeline([('lr_clf', LogisticRegression(solver = 'lbfgs', max_iter=500))])\n",
    "parameters = {'lr_clf__C': (0.1,1,5,10,)}\n",
    "\n",
    "gs_log = GridSearchCV(log_pipe, parameters, cv=5, scoring='accuracy')\n",
    "gs_log.fit(X_train,Y_train)\n",
    "print(np.round(gs_log.cv_results_['mean_test_score']*100,4))\n",
    "best_pars_lr = gs_log.best_params_\n",
    "print (\"Best_Parameter:\",best_pars_lr)\n",
    "\n",
    "#Using the best hyperparameter(s) - predict on the test dataset.\n",
    "lr = LogisticRegression(C=best_pars_lr['lr_clf__C'], solver = 'lbfgs', max_iter=500)\n",
    "lr.fit(X_train,Y_train)\n",
    "Y_predict = lr.predict(X_test)\n",
    "print (\"Accuracy_LR:\", accuracy_score(Y_test,Y_predict))"
   ]
  },
  {
   "cell_type": "markdown",
   "metadata": {},
   "source": [
    "2. Decision Tree"
   ]
  },
  {
   "cell_type": "code",
   "execution_count": 9,
   "metadata": {},
   "outputs": [
    {
     "name": "stdout",
     "output_type": "stream",
     "text": [
      "[71.516 71.596 70.716]\n",
      "Best_Parameter: {'dt_clf__max_depth': 20}\n",
      "Accuracy_DT: 0.72056\n"
     ]
    }
   ],
   "source": [
    "from sklearn.tree import DecisionTreeClassifier\n",
    "\n",
    "#Use GridSearch Cross Validation to tune the hyperparameters\n",
    "dec_pipe = Pipeline([('dt_clf', DecisionTreeClassifier(splitter = 'best')),])\n",
    "parameters = { 'dt_clf__max_depth': (10,20,40)}\n",
    "\n",
    "gs_dec = GridSearchCV(dec_pipe, parameters, cv=5, scoring='accuracy')\n",
    "gs_dec = gs_dec.fit(X_train,Y_train)\n",
    "print(np.round(gs_dec.cv_results_['mean_test_score']*100,4))\n",
    "best_pars_dt = gs_dec.best_params_\n",
    "print (\"Best_Parameter:\",best_pars_dt)\n",
    "\n",
    "#Using the best hyperparameter(s) - predict on the test dataset.\n",
    "dt = DecisionTreeClassifier(criterion='gini',max_depth=best_pars_dt['dt_clf__max_depth'])\n",
    "dt.fit(X_train,Y_train)\n",
    "Y_predict = dt.predict(X_test)\n",
    "print (\"Accuracy_DT:\", accuracy_score(Y_test,Y_predict))"
   ]
  },
  {
   "cell_type": "markdown",
   "metadata": {},
   "source": [
    "3. Support Vector Machine"
   ]
  },
  {
   "cell_type": "code",
   "execution_count": 10,
   "metadata": {},
   "outputs": [
    {
     "name": "stdout",
     "output_type": "stream",
     "text": [
      "[90.428 90.46  90.488]\n",
      "Best_Parameter: {'svm_clf__C': 1}\n",
      "Accuracy_SVM: 0.90828\n"
     ]
    }
   ],
   "source": [
    "from sklearn.svm import LinearSVC\n",
    "\n",
    "#Use GridSearch Cross Validation to tune the hyperparameters\n",
    "svm_pipe = Pipeline([('svm_clf', LinearSVC(max_iter = 10000))])\n",
    "parameters = {'svm_clf__C': (0.7,0.8,1)}\n",
    "\n",
    "gs_svm = GridSearchCV(svm_pipe, parameters, cv=5, scoring='accuracy')\n",
    "gs_svm = gs_svm.fit(X_train,Y_train)\n",
    "print(np.round(gs_svm.cv_results_['mean_test_score']*100,4))\n",
    "best_pars_svm = gs_svm.best_params_\n",
    "print (\"Best_Parameter:\",best_pars_svm)\n",
    "\n",
    "#Using the best hyperparameter(s) - predict on the test dataset.\n",
    "svm = LinearSVC(random_state=0, tol=1e-5,C=best_pars_svm['svm_clf__C'])\n",
    "svm.fit(X_train,Y_train)\n",
    "Y_predict = svm.predict(X_test)\n",
    "print (\"Accuracy_SVM:\", accuracy_score(Y_test,Y_predict))"
   ]
  },
  {
   "cell_type": "markdown",
   "metadata": {},
   "source": [
    "4. AdaBoost"
   ]
  },
  {
   "cell_type": "code",
   "execution_count": 11,
   "metadata": {},
   "outputs": [
    {
     "name": "stdout",
     "output_type": "stream",
     "text": [
      "[67.    68.392 72.184 75.676]\n",
      "Best_Parameter: {'ada_clf__learning_rate': 1, 'ada_clf__n_estimators': 20}\n",
      "Accuracy_AB: 0.75524\n"
     ]
    }
   ],
   "source": [
    "from sklearn.ensemble import AdaBoostClassifier\n",
    "\n",
    "#Use GridSearch Cross Validation to tune the hyperparameters\n",
    "ada_pipe = Pipeline([('ada_clf', AdaBoostClassifier())])\n",
    "parameters = {\n",
    "    'ada_clf__learning_rate': (0.1, 1),\n",
    "    'ada_clf__n_estimators': (10,20)}\n",
    "\n",
    "gs_ada = GridSearchCV(ada_pipe, parameters, cv=5, scoring='accuracy')\n",
    "gs_ada = gs_ada.fit(X_train,Y_train)\n",
    "print(np.round(gs_ada.cv_results_['mean_test_score']*100,4))\n",
    "best_pars_ada = gs_ada.best_params_\n",
    "print (\"Best_Parameter:\",best_pars_ada)\n",
    "\n",
    "#Using the best hyperparameter(s) - predict on the test dataset.\n",
    "ab = AdaBoostClassifier(learning_rate=best_pars_ada['ada_clf__learning_rate'],n_estimators=best_pars_ada['ada_clf__n_estimators'])\n",
    "ab.fit(X_train,Y_train)\n",
    "Y_predict = ab.predict(X_test)\n",
    "print (\"Accuracy_AB:\", accuracy_score(Y_test,Y_predict))\n"
   ]
  },
  {
   "cell_type": "markdown",
   "metadata": {},
   "source": [
    "5. Random Forest Classifier"
   ]
  },
  {
   "cell_type": "code",
   "execution_count": 12,
   "metadata": {},
   "outputs": [
    {
     "name": "stdout",
     "output_type": "stream",
     "text": [
      "[82.936 84.36  85.012]\n",
      "Best_Parameter: {'rndm_clf__max_depth': 40}\n",
      "Accuracy_RF: 0.8508\n"
     ]
    }
   ],
   "source": [
    "from sklearn.ensemble import RandomForestClassifier\n",
    "\n",
    "#Use GridSearch Cross Validation to tune the hyperparameters\n",
    "rndm_pipe = Pipeline([('rndm_clf', RandomForestClassifier(bootstrap = True, criterion = 'gini', n_estimators=300))])\n",
    "parameters = {'rndm_clf__max_depth': (10, 20, 40)}\n",
    "\n",
    "gs_rndm = GridSearchCV(rndm_pipe, parameters, cv=5, scoring='accuracy')\n",
    "gs_rndm = gs_rndm.fit(X_train, Y_train)\n",
    "print(np.round(gs_rndm.cv_results_['mean_test_score']*100,4))\n",
    "best_pars_rndm = gs_rndm.best_params_\n",
    "print (\"Best_Parameter:\",best_pars_rndm)\n",
    "\n",
    "#Using the best hyperparameter(s) - predict on the test dataset.\n",
    "rf = RandomForestClassifier(max_depth=best_pars_rndm['rndm_clf__max_depth'], n_estimators=300)\n",
    "rf.fit(X_train,Y_train)\n",
    "Y_predict = rf.predict(X_test)\n",
    "print (\"Accuracy_RF:\", accuracy_score(Y_test,Y_predict))\n"
   ]
  },
  {
   "cell_type": "markdown",
   "metadata": {},
   "source": [
    "6. MultinomialNB "
   ]
  },
  {
   "cell_type": "code",
   "execution_count": 13,
   "metadata": {},
   "outputs": [
    {
     "name": "stdout",
     "output_type": "stream",
     "text": [
      "[89.316 88.656 88.14  87.128]\n",
      "Best_Parameter: {'nb_clf__alpha': 0.1}\n",
      "Accuracy_RF: 0.8746\n"
     ]
    }
   ],
   "source": [
    "from sklearn.naive_bayes import MultinomialNB\n",
    "\n",
    "#Use GridSearch Cross Validation to tune the hyperparameters\n",
    "nb_pipe = Pipeline([('nb_clf', MultinomialNB())])\n",
    "parameters = {\n",
    "    'nb_clf__alpha': (0.1,1,2,5)}\n",
    "\n",
    "gs_nb = GridSearchCV(nb_pipe, parameters, cv=5, scoring='accuracy')\n",
    "gs_nb = gs_nb.fit(X_train,Y_train)\n",
    "print(np.round(gs_nb.cv_results_['mean_test_score']*100,4))\n",
    "best_pars_nb = gs_nb.best_params_\n",
    "print (\"Best_Parameter:\",best_pars_nb)\n",
    "\n",
    "#Using the best hyperparameter(s) - predict on the test dataset.\n",
    "nb = MultinomialNB(alpha=best_pars_nb['nb_clf__alpha'])\n",
    "nb.fit(X_train,Y_train)\n",
    "Y_predict = nb.predict(X_test)\n",
    "print (\"Accuracy_RF:\", accuracy_score(Y_test,Y_predict))"
   ]
  },
  {
   "cell_type": "code",
   "execution_count": null,
   "metadata": {},
   "outputs": [],
   "source": []
  }
 ],
 "metadata": {
  "kernelspec": {
   "display_name": "Python 3",
   "language": "python",
   "name": "python3"
  },
  "language_info": {
   "codemirror_mode": {
    "name": "ipython",
    "version": 3
   },
   "file_extension": ".py",
   "mimetype": "text/x-python",
   "name": "python",
   "nbconvert_exporter": "python",
   "pygments_lexer": "ipython3",
   "version": "3.7.4"
  }
 },
 "nbformat": 4,
 "nbformat_minor": 2
}
