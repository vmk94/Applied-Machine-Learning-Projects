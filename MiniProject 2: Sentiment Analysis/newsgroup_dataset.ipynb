{
 "cells": [
  {
   "cell_type": "markdown",
   "metadata": {},
   "source": [
    "# 20 Newsgroups Dataset - Group 7"
   ]
  },
  {
   "cell_type": "markdown",
   "metadata": {},
   "source": [
    "## Import all libraries and Datasets preprocessing"
   ]
  },
  {
   "cell_type": "markdown",
   "metadata": {},
   "source": [
    "Import libraries"
   ]
  },
  {
   "cell_type": "code",
   "execution_count": 1,
   "metadata": {},
   "outputs": [],
   "source": [
    "#Import all necesarry libraries\n",
    "import numpy as np\n",
    "import pandas as pd\n",
    "import seaborn as sns\n",
    "import matplotlib.pyplot as plt\n",
    "\n",
    "#Import 20 News Groups data set\n",
    "from sklearn.datasets import fetch_20newsgroups\n",
    "from sklearn import metrics\n",
    "\n",
    "#Impot CountVectorizer and Tfid Transformer from sklearn\n",
    "from sklearn.feature_extraction.text import TfidfVectorizer\n",
    "\n",
    "#Import pipeline\n",
    "from sklearn.pipeline import Pipeline\n",
    "\n",
    "#Import Grid Search CV\n",
    "from sklearn.model_selection import GridSearchCV\n",
    "\n",
    "#Import Base Estimator\n",
    "from sklearn.base import BaseEstimator\n",
    "\n",
    "#Import manual cross validation\n",
    "from scipy.sparse import vstack, hstack\n",
    "from sklearn.utils import shuffle\n",
    "from sklearn.model_selection import train_test_split\n",
    "from sklearn.model_selection import KFold\n"
   ]
  },
  {
   "cell_type": "markdown",
   "metadata": {},
   "source": [
    "Import all models to be used"
   ]
  },
  {
   "cell_type": "code",
   "execution_count": 2,
   "metadata": {},
   "outputs": [],
   "source": [
    "from sklearn.linear_model import LogisticRegression\n",
    "from sklearn.tree import DecisionTreeClassifier\n",
    "from sklearn.svm import LinearSVC\n",
    "from sklearn.ensemble import AdaBoostClassifier\n",
    "from sklearn.ensemble import RandomForestClassifier\n",
    "from sklearn.naive_bayes import MultinomialNB\n",
    "from sklearn.neighbors import KNeighborsClassifier"
   ]
  },
  {
   "cell_type": "markdown",
   "metadata": {},
   "source": [
    "Fetch datasets"
   ]
  },
  {
   "cell_type": "code",
   "execution_count": 3,
   "metadata": {},
   "outputs": [],
   "source": [
    "train_data = fetch_20newsgroups(subset='train',categories= None, remove=('headers', 'footers', 'quotes'))\n",
    "test_data = fetch_20newsgroups(subset='test',categories= None, remove=(['headers', 'footers', 'quotes']))\n",
    "y_train = train_data.target\n",
    "y_test = test_data.target"
   ]
  },
  {
   "cell_type": "markdown",
   "metadata": {},
   "source": [
    "Apply Tfid Vectorizer to data set"
   ]
  },
  {
   "cell_type": "code",
   "execution_count": 4,
   "metadata": {},
   "outputs": [],
   "source": [
    "vectorizer = TfidfVectorizer(stop_words = 'english')\n",
    "X_train = vectorizer.fit_transform(train_data.data)\n",
    "X_test = vectorizer.transform(test_data.data)"
   ]
  },
  {
   "cell_type": "markdown",
   "metadata": {},
   "source": [
    "## Initial Testing of all models (without parameter tunning)"
   ]
  },
  {
   "cell_type": "markdown",
   "metadata": {},
   "source": [
    "1. Logistic Regression:"
   ]
  },
  {
   "cell_type": "code",
   "execution_count": 5,
   "metadata": {},
   "outputs": [
    {
     "name": "stdout",
     "output_type": "stream",
     "text": [
      "Accuracy Logistic Regression w/o param tunning: \n",
      "69.0919\n"
     ]
    }
   ],
   "source": [
    "clf_log = LogisticRegression(solver ='sag', multi_class = 'multinomial')\n",
    "clf_log.fit(X_train, y_train)\n",
    "log_predict = clf_log.predict(X_test)\n",
    "print(\"Accuracy Logistic Regression w/o param tunning: \")\n",
    "print(round(np.mean(log_predict == y_test)*100,4))"
   ]
  },
  {
   "cell_type": "markdown",
   "metadata": {},
   "source": [
    "2. Decision Trees:"
   ]
  },
  {
   "cell_type": "code",
   "execution_count": 6,
   "metadata": {},
   "outputs": [
    {
     "name": "stdout",
     "output_type": "stream",
     "text": [
      "Accuracy Decision Trees w/o param tunning: \n",
      "43.8396\n"
     ]
    }
   ],
   "source": [
    "clf_dec = DecisionTreeClassifier()\n",
    "clf_dec.fit(X_train, y_train)\n",
    "dec_predict = clf_dec.predict(X_test)\n",
    "print(\"Accuracy Decision Trees w/o param tunning: \")\n",
    "print(round(np.mean(dec_predict == y_test)*100,4))"
   ]
  },
  {
   "cell_type": "markdown",
   "metadata": {},
   "source": [
    "3. SVM:"
   ]
  },
  {
   "cell_type": "code",
   "execution_count": 7,
   "metadata": {},
   "outputs": [
    {
     "name": "stdout",
     "output_type": "stream",
     "text": [
      "Accuracy SVM w/o param tunning: \n",
      "69.2777\n"
     ]
    }
   ],
   "source": [
    "clf_svm = LinearSVC()\n",
    "clf_svm.fit(X_train, y_train)\n",
    "svm_predict = clf_svm.predict(X_test)\n",
    "print(\"Accuracy SVM w/o param tunning: \")\n",
    "print(round(np.mean(svm_predict == y_test)*100,4))"
   ]
  },
  {
   "cell_type": "markdown",
   "metadata": {},
   "source": [
    "4. Adaboost (base learner = decision tree):"
   ]
  },
  {
   "cell_type": "code",
   "execution_count": 8,
   "metadata": {},
   "outputs": [
    {
     "name": "stdout",
     "output_type": "stream",
     "text": [
      "Accuracy Adaboost w/o param tunning: \n",
      "36.564\n"
     ]
    }
   ],
   "source": [
    "clf_ada = AdaBoostClassifier()\n",
    "clf_ada.fit(X_train, y_train)\n",
    "ada_predict = clf_ada.predict(X_test)\n",
    "print(\"Accuracy Adaboost w/o param tunning: \")\n",
    "print(round(np.mean(ada_predict == y_test)*100,4))"
   ]
  },
  {
   "cell_type": "markdown",
   "metadata": {},
   "source": [
    "5. Random Forest:"
   ]
  },
  {
   "cell_type": "code",
   "execution_count": 9,
   "metadata": {},
   "outputs": [
    {
     "name": "stdout",
     "output_type": "stream",
     "text": [
      "Accuracy Random Forest w/o param tunning: \n",
      "51.3941\n"
     ]
    }
   ],
   "source": [
    "clf_rndm = RandomForestClassifier(n_estimators=10)\n",
    "clf_rndm.fit(X_train, y_train)\n",
    "rndm_predict = clf_rndm.predict(X_test)\n",
    "print(\"Accuracy Random Forest w/o param tunning: \")\n",
    "print(round(np.mean(rndm_predict == y_test)*100,4))"
   ]
  },
  {
   "cell_type": "markdown",
   "metadata": {},
   "source": [
    "6. Multinomial NB:"
   ]
  },
  {
   "cell_type": "code",
   "execution_count": 10,
   "metadata": {},
   "outputs": [
    {
     "name": "stdout",
     "output_type": "stream",
     "text": [
      "Accuracy Multinomial NB w/o param tunning: \n",
      "67.7908\n"
     ]
    }
   ],
   "source": [
    "clf_nb = MultinomialNB()\n",
    "clf_nb.fit(X_train, y_train)\n",
    "nb_predict = clf_nb.predict(X_test)\n",
    "print(\"Accuracy Multinomial NB w/o param tunning: \")\n",
    "print(round(np.mean(nb_predict == y_test)*100,4))"
   ]
  },
  {
   "cell_type": "markdown",
   "metadata": {},
   "source": [
    "## Parameter tuning using GridSearchCV:"
   ]
  },
  {
   "cell_type": "markdown",
   "metadata": {},
   "source": [
    "1. Logistic Regression:\n",
    "    * Parameters to tune:\n",
    "        - Inverse regularization (C)"
   ]
  },
  {
   "cell_type": "code",
   "execution_count": 11,
   "metadata": {},
   "outputs": [],
   "source": [
    "log_pipe = Pipeline([\n",
    "        ('tfidf', TfidfVectorizer()),\n",
    "        ('lr_clf', LogisticRegression(solver = 'sag',multi_class = 'multinomial')),])\n",
    "\n",
    "parameters = {'lr_clf__C': (0.01,0.1, 1,5,8,10, 13, 16, 20)}\n",
    "\n",
    "gs_log = GridSearchCV(log_pipe, parameters, cv=5, scoring='accuracy')\n",
    "gs_log = gs_log.fit(train_data.data, y_train)"
   ]
  },
  {
   "cell_type": "code",
   "execution_count": 12,
   "metadata": {},
   "outputs": [
    {
     "name": "stdout",
     "output_type": "stream",
     "text": [
      "Mean Test Scores:\n",
      "[46.9065 60.5975 72.5119 74.7393 74.8984 74.9425 74.9337 74.9249 74.916 ]\n",
      "\n",
      " Parameters:\n",
      "[{'lr_clf__C': 0.01}, {'lr_clf__C': 0.1}, {'lr_clf__C': 1}, {'lr_clf__C': 5}, {'lr_clf__C': 8}, {'lr_clf__C': 10}, {'lr_clf__C': 13}, {'lr_clf__C': 16}, {'lr_clf__C': 20}]\n",
      "\n",
      " Best parameter and best score: \n",
      "{'lr_clf__C': 10}\n",
      "74.9425\n"
     ]
    }
   ],
   "source": [
    "print(\"Mean Test Scores:\")\n",
    "print(np.round(gs_log.cv_results_['mean_test_score']*100,4))\n",
    "print(\"\\n Parameters:\")\n",
    "print(gs_log.cv_results_['params'])\n",
    "print(\"\\n Best parameter and best score: \")\n",
    "print(gs_log.best_params_)\n",
    "print(np.round(gs_log.best_score_*100, 4))"
   ]
  },
  {
   "cell_type": "markdown",
   "metadata": {},
   "source": [
    "2. Decision Trees:\n",
    "    * Parameters to tune:\n",
    "        - Criterion (Gini or Entropy)\n",
    "        - Max tree depth"
   ]
  },
  {
   "cell_type": "code",
   "execution_count": 13,
   "metadata": {},
   "outputs": [],
   "source": [
    "dec_pipe = Pipeline([\n",
    "        ('tfidf', TfidfVectorizer()),\n",
    "        ('dt_clf', DecisionTreeClassifier(splitter = 'best')),])\n",
    "\n",
    "parameters = {\n",
    "    'dt_clf__criterion': ('gini','entropy'),\n",
    "    'dt_clf__max_depth': (10,20,40,60,80,100,120),}\n",
    "\n",
    "gs_dec = GridSearchCV(dec_pipe, parameters, cv=5, scoring='accuracy')\n",
    "gs_dec = gs_dec.fit(train_data.data, y_train)"
   ]
  },
  {
   "cell_type": "code",
   "execution_count": 14,
   "metadata": {},
   "outputs": [
    {
     "name": "stdout",
     "output_type": "stream",
     "text": [
      "Mean Test Scores:\n",
      "[22.0081 29.0348 34.8506 38.7838 40.7902 41.9834 42.1336 22.3617 27.983\n",
      " 29.2558 29.1144 29.2735 29.68   29.5121]\n",
      "\n",
      " Parameters:\n",
      "[{'dt_clf__criterion': 'gini', 'dt_clf__max_depth': 10}, {'dt_clf__criterion': 'gini', 'dt_clf__max_depth': 20}, {'dt_clf__criterion': 'gini', 'dt_clf__max_depth': 40}, {'dt_clf__criterion': 'gini', 'dt_clf__max_depth': 60}, {'dt_clf__criterion': 'gini', 'dt_clf__max_depth': 80}, {'dt_clf__criterion': 'gini', 'dt_clf__max_depth': 100}, {'dt_clf__criterion': 'gini', 'dt_clf__max_depth': 120}, {'dt_clf__criterion': 'entropy', 'dt_clf__max_depth': 10}, {'dt_clf__criterion': 'entropy', 'dt_clf__max_depth': 20}, {'dt_clf__criterion': 'entropy', 'dt_clf__max_depth': 40}, {'dt_clf__criterion': 'entropy', 'dt_clf__max_depth': 60}, {'dt_clf__criterion': 'entropy', 'dt_clf__max_depth': 80}, {'dt_clf__criterion': 'entropy', 'dt_clf__max_depth': 100}, {'dt_clf__criterion': 'entropy', 'dt_clf__max_depth': 120}]\n",
      "\n",
      " Best parameter and best score: \n",
      "{'dt_clf__criterion': 'gini', 'dt_clf__max_depth': 120}\n",
      "42.1336\n"
     ]
    }
   ],
   "source": [
    "print(\"Mean Test Scores:\")\n",
    "print(np.round(gs_dec.cv_results_['mean_test_score']*100,4))\n",
    "print(\"\\n Parameters:\")\n",
    "print(gs_dec.cv_results_['params'])\n",
    "print(\"\\n Best parameter and best score: \")\n",
    "print(gs_dec.best_params_)\n",
    "print(np.round(gs_dec.best_score_*100, 4))"
   ]
  },
  {
   "cell_type": "markdown",
   "metadata": {},
   "source": [
    "3. SVM:\n",
    "    * Parameters to tune:\n",
    "        - Inverse regularization (C)"
   ]
  },
  {
   "cell_type": "code",
   "execution_count": 15,
   "metadata": {},
   "outputs": [],
   "source": [
    "svm_pipe = Pipeline([\n",
    "        ('tfidf', TfidfVectorizer()),\n",
    "        ('svm_clf', LinearSVC(max_iter = 10000)),])\n",
    "\n",
    "parameters = {'svm_clf__C': (0.01,0.1,0.5,0.8,1,3,5,7,10),}\n",
    "\n",
    "gs_svm = GridSearchCV(svm_pipe, parameters, cv=5, scoring='accuracy')\n",
    "gs_svm = gs_svm.fit(train_data.data, y_train)"
   ]
  },
  {
   "cell_type": "code",
   "execution_count": 16,
   "metadata": {},
   "outputs": [
    {
     "name": "stdout",
     "output_type": "stream",
     "text": [
      "Mean Test Scores:\n",
      "[66.5282 74.8453 76.454  76.2241 76.0651 75.6762 75.2873 75.1193 74.8807]\n",
      "\n",
      " Parameters:\n",
      "[{'svm_clf__C': 0.01}, {'svm_clf__C': 0.1}, {'svm_clf__C': 0.5}, {'svm_clf__C': 0.8}, {'svm_clf__C': 1}, {'svm_clf__C': 3}, {'svm_clf__C': 5}, {'svm_clf__C': 7}, {'svm_clf__C': 10}]\n",
      "\n",
      " Best parameter and best score: \n",
      "{'svm_clf__C': 0.5}\n",
      "76.454\n"
     ]
    }
   ],
   "source": [
    "print(\"Mean Test Scores:\")\n",
    "print(np.round(gs_svm.cv_results_['mean_test_score']*100,4))\n",
    "print(\"\\n Parameters:\")\n",
    "print(gs_svm.cv_results_['params'])\n",
    "print(\"\\n Best parameter and best score: \")\n",
    "print(gs_svm.best_params_)\n",
    "print(np.round(gs_svm.best_score_*100, 4))"
   ]
  },
  {
   "cell_type": "markdown",
   "metadata": {},
   "source": [
    "4. Adaboost (base learner = decision tree):\n",
    "    * Parameters to tune:\n",
    "        - Learning rate\n",
    "        - Number of estimators"
   ]
  },
  {
   "cell_type": "code",
   "execution_count": 17,
   "metadata": {},
   "outputs": [],
   "source": [
    "ada_pipe = Pipeline([\n",
    "        ('tfidf', TfidfVectorizer()),\n",
    "        ('ada_clf', AdaBoostClassifier()),])\n",
    "\n",
    "parameters = {\n",
    "    'ada_clf__learning_rate': (0.2, 0.6, 0.8, 1),\n",
    "    'ada_clf__n_estimators': (50,100,120, 140, 150,200,250),}\n",
    "\n",
    "gs_ada = GridSearchCV(ada_pipe, parameters, cv=5, scoring='accuracy')\n",
    "gs_ada = gs_ada.fit(train_data.data, y_train)"
   ]
  },
  {
   "cell_type": "code",
   "execution_count": 18,
   "metadata": {},
   "outputs": [
    {
     "name": "stdout",
     "output_type": "stream",
     "text": [
      "Mean Test Scores:\n",
      "[36.3178 43.9102 44.6526 45.51   45.8017 46.164  45.3774 39.7914 46.2613\n",
      " 46.9507 46.7739 46.1552 44.7941 44.1312 39.8444 45.784  46.6767 46.6237\n",
      " 46.4204 45.3155 45.0504 39.8091 45.7751 46.0933 45.4835 45.457  44.3875\n",
      " 44.1135]\n",
      "\n",
      " Parameters:\n",
      "[{'ada_clf__learning_rate': 0.2, 'ada_clf__n_estimators': 50}, {'ada_clf__learning_rate': 0.2, 'ada_clf__n_estimators': 100}, {'ada_clf__learning_rate': 0.2, 'ada_clf__n_estimators': 120}, {'ada_clf__learning_rate': 0.2, 'ada_clf__n_estimators': 140}, {'ada_clf__learning_rate': 0.2, 'ada_clf__n_estimators': 150}, {'ada_clf__learning_rate': 0.2, 'ada_clf__n_estimators': 200}, {'ada_clf__learning_rate': 0.2, 'ada_clf__n_estimators': 250}, {'ada_clf__learning_rate': 0.6, 'ada_clf__n_estimators': 50}, {'ada_clf__learning_rate': 0.6, 'ada_clf__n_estimators': 100}, {'ada_clf__learning_rate': 0.6, 'ada_clf__n_estimators': 120}, {'ada_clf__learning_rate': 0.6, 'ada_clf__n_estimators': 140}, {'ada_clf__learning_rate': 0.6, 'ada_clf__n_estimators': 150}, {'ada_clf__learning_rate': 0.6, 'ada_clf__n_estimators': 200}, {'ada_clf__learning_rate': 0.6, 'ada_clf__n_estimators': 250}, {'ada_clf__learning_rate': 0.8, 'ada_clf__n_estimators': 50}, {'ada_clf__learning_rate': 0.8, 'ada_clf__n_estimators': 100}, {'ada_clf__learning_rate': 0.8, 'ada_clf__n_estimators': 120}, {'ada_clf__learning_rate': 0.8, 'ada_clf__n_estimators': 140}, {'ada_clf__learning_rate': 0.8, 'ada_clf__n_estimators': 150}, {'ada_clf__learning_rate': 0.8, 'ada_clf__n_estimators': 200}, {'ada_clf__learning_rate': 0.8, 'ada_clf__n_estimators': 250}, {'ada_clf__learning_rate': 1, 'ada_clf__n_estimators': 50}, {'ada_clf__learning_rate': 1, 'ada_clf__n_estimators': 100}, {'ada_clf__learning_rate': 1, 'ada_clf__n_estimators': 120}, {'ada_clf__learning_rate': 1, 'ada_clf__n_estimators': 140}, {'ada_clf__learning_rate': 1, 'ada_clf__n_estimators': 150}, {'ada_clf__learning_rate': 1, 'ada_clf__n_estimators': 200}, {'ada_clf__learning_rate': 1, 'ada_clf__n_estimators': 250}]\n",
      "\n",
      " Best parameter and best score: \n",
      "{'ada_clf__learning_rate': 0.6, 'ada_clf__n_estimators': 120}\n",
      "46.9507\n"
     ]
    }
   ],
   "source": [
    "print(\"Mean Test Scores:\")\n",
    "print(np.round(gs_ada.cv_results_['mean_test_score']*100,4))\n",
    "print(\"\\n Parameters:\")\n",
    "print(gs_ada.cv_results_['params'])\n",
    "print(\"\\n Best parameter and best score: \")\n",
    "print(gs_ada.best_params_)\n",
    "print(np.round(gs_ada.best_score_*100, 4))"
   ]
  },
  {
   "cell_type": "markdown",
   "metadata": {},
   "source": [
    "5. Random Forest:\n",
    "    * Parameters to tune:\n",
    "        - Max depth\n",
    "        - Number of estimators"
   ]
  },
  {
   "cell_type": "code",
   "execution_count": 19,
   "metadata": {},
   "outputs": [],
   "source": [
    "rndm_pipe = Pipeline([\n",
    "        ('tfidf', TfidfVectorizer()),\n",
    "        ('rndm_clf', RandomForestClassifier(bootstrap = True, criterion = 'gini')),])\n",
    "\n",
    "parameters = {\n",
    "    'rndm_clf__max_depth': (20, 40, 60, 80),\n",
    "    'rndm_clf__n_estimators': (200,300)}\n",
    "\n",
    "gs_rndm = GridSearchCV(rndm_pipe, parameters, cv=5, scoring='accuracy')\n",
    "gs_rndm = gs_rndm.fit(train_data.data, y_train)"
   ]
  },
  {
   "cell_type": "code",
   "execution_count": 20,
   "metadata": {},
   "outputs": [
    {
     "name": "stdout",
     "output_type": "stream",
     "text": [
      "Mean Test Scores:\n",
      "[61.3841 62.0382 64.0269 64.9814 65.0168 65.061  65.4322 66.1393]\n",
      "\n",
      " Parameters:\n",
      "[{'rndm_clf__max_depth': 20, 'rndm_clf__n_estimators': 200}, {'rndm_clf__max_depth': 20, 'rndm_clf__n_estimators': 300}, {'rndm_clf__max_depth': 40, 'rndm_clf__n_estimators': 200}, {'rndm_clf__max_depth': 40, 'rndm_clf__n_estimators': 300}, {'rndm_clf__max_depth': 60, 'rndm_clf__n_estimators': 200}, {'rndm_clf__max_depth': 60, 'rndm_clf__n_estimators': 300}, {'rndm_clf__max_depth': 80, 'rndm_clf__n_estimators': 200}, {'rndm_clf__max_depth': 80, 'rndm_clf__n_estimators': 300}]\n",
      "\n",
      " Best parameter and best score: \n",
      "{'rndm_clf__max_depth': 80, 'rndm_clf__n_estimators': 300}\n",
      "66.1393\n"
     ]
    }
   ],
   "source": [
    "print(\"Mean Test Scores:\")\n",
    "print(np.round(gs_rndm.cv_results_['mean_test_score']*100,4))\n",
    "print(\"\\n Parameters:\")\n",
    "print(gs_rndm.cv_results_['params'])\n",
    "print(\"\\n Best parameter and best score: \")\n",
    "print(gs_rndm.best_params_)\n",
    "print(np.round(gs_rndm.best_score_*100, 4))"
   ]
  },
  {
   "cell_type": "markdown",
   "metadata": {},
   "source": [
    "6. Multinomial NB:\n",
    "    * Parameters to tune:\n",
    "        - Alpha"
   ]
  },
  {
   "cell_type": "code",
   "execution_count": 21,
   "metadata": {},
   "outputs": [],
   "source": [
    "nb_pipe = Pipeline([\n",
    "        ('tfidf', TfidfVectorizer()),\n",
    "        ('nb_clf', MultinomialNB()),])\n",
    "\n",
    "parameters = {\n",
    "    'nb_clf__alpha': (0.01,0.1,1,2,5,8,10)}\n",
    "\n",
    "gs_nb = GridSearchCV(nb_pipe, parameters, cv=5, scoring='accuracy')\n",
    "gs_nb = gs_nb.fit(train_data.data, y_train)"
   ]
  },
  {
   "cell_type": "code",
   "execution_count": 22,
   "metadata": {},
   "outputs": [
    {
     "name": "stdout",
     "output_type": "stream",
     "text": [
      "Mean Test Scores:\n",
      "[76.56   73.9173 63.9827 58.5911 48.7272 43.371  40.5427]\n",
      "\n",
      " Parameters:\n",
      "[{'nb_clf__alpha': 0.01}, {'nb_clf__alpha': 0.1}, {'nb_clf__alpha': 1}, {'nb_clf__alpha': 2}, {'nb_clf__alpha': 5}, {'nb_clf__alpha': 8}, {'nb_clf__alpha': 10}]\n",
      "\n",
      " Best parameter and best score: \n",
      "{'nb_clf__alpha': 0.01}\n",
      "76.56\n"
     ]
    }
   ],
   "source": [
    "print(\"Mean Test Scores:\")\n",
    "print(np.round(gs_nb.cv_results_['mean_test_score']*100,4))\n",
    "print(\"\\n Parameters:\")\n",
    "print(gs_nb.cv_results_['params'])\n",
    "print(\"\\n Best parameter and best score: \")\n",
    "print(gs_nb.best_params_)\n",
    "print(np.round(gs_nb.best_score_*100, 4))"
   ]
  },
  {
   "cell_type": "markdown",
   "metadata": {},
   "source": [
    "### Final Testing of all models (with best parameters)"
   ]
  },
  {
   "cell_type": "markdown",
   "metadata": {},
   "source": [
    "1. Logistic Regression"
   ]
  },
  {
   "cell_type": "code",
   "execution_count": 23,
   "metadata": {},
   "outputs": [
    {
     "name": "stdout",
     "output_type": "stream",
     "text": [
      "Accuracy Logistic Regression with param tunning: \n",
      "69.1052\n"
     ]
    }
   ],
   "source": [
    "clf_log = LogisticRegression(C = 10, solver ='sag', multi_class = 'multinomial')\n",
    "clf_log.fit(X_train, y_train)\n",
    "log_predict = clf_log.predict(X_test)\n",
    "print(\"Accuracy Logistic Regression with param tunning: \")\n",
    "print(round(np.mean(log_predict == y_test)*100,4))"
   ]
  },
  {
   "cell_type": "markdown",
   "metadata": {},
   "source": [
    "2. Decision Trees:"
   ]
  },
  {
   "cell_type": "code",
   "execution_count": 24,
   "metadata": {},
   "outputs": [
    {
     "name": "stdout",
     "output_type": "stream",
     "text": [
      "Accuracy Decision Trees with param tunning: \n",
      "40.7594\n"
     ]
    }
   ],
   "source": [
    "clf_dec = DecisionTreeClassifier(criterion = 'gini', max_depth = 120, splitter = 'best')\n",
    "clf_dec.fit(X_train, y_train)\n",
    "dec_predict = clf_dec.predict(X_test)\n",
    "print(\"Accuracy Decision Trees with param tunning: \")\n",
    "print(round(np.mean(dec_predict == y_test)*100,4))"
   ]
  },
  {
   "cell_type": "markdown",
   "metadata": {},
   "source": [
    "3. SVM:"
   ]
  },
  {
   "cell_type": "code",
   "execution_count": 25,
   "metadata": {},
   "outputs": [
    {
     "name": "stdout",
     "output_type": "stream",
     "text": [
      "Accuracy SVM with param tunning: \n",
      "69.8088\n"
     ]
    }
   ],
   "source": [
    "clf_svm = LinearSVC(max_iter = 10000, C = 0.5)\n",
    "clf_svm.fit(X_train, y_train)\n",
    "svm_predict = clf_svm.predict(X_test)\n",
    "print(\"Accuracy SVM with param tunning: \")\n",
    "print(round(np.mean(svm_predict == y_test)*100,4))"
   ]
  },
  {
   "cell_type": "markdown",
   "metadata": {},
   "source": [
    "4. Adaboost (base learner = decision tree):"
   ]
  },
  {
   "cell_type": "code",
   "execution_count": 26,
   "metadata": {},
   "outputs": [
    {
     "name": "stdout",
     "output_type": "stream",
     "text": [
      "Accuracy Adaboost with param tunning: \n",
      "43.8263\n"
     ]
    }
   ],
   "source": [
    "clf_ada = AdaBoostClassifier(learning_rate = 0.6, n_estimators = 120)\n",
    "clf_ada.fit(X_train, y_train)\n",
    "ada_predict = clf_ada.predict(X_test)\n",
    "print(\"Accuracy Adaboost with param tunning: \")\n",
    "print(round(np.mean(ada_predict == y_test)*100,4))"
   ]
  },
  {
   "cell_type": "markdown",
   "metadata": {},
   "source": [
    "5. Random Forest:"
   ]
  },
  {
   "cell_type": "code",
   "execution_count": 27,
   "metadata": {},
   "outputs": [
    {
     "name": "stdout",
     "output_type": "stream",
     "text": [
      "Accuracy Random Forest with param tunning: \n",
      "62.5199\n"
     ]
    }
   ],
   "source": [
    "clf_rndm = RandomForestClassifier(bootstrap = True, criterion = 'gini', max_depth = 80, n_estimators = 300)\n",
    "clf_rndm.fit(X_train, y_train)\n",
    "rndm_predict = clf_rndm.predict(X_test)\n",
    "print(\"Accuracy Random Forest with param tunning: \")\n",
    "print(round(np.mean(rndm_predict == y_test)*100,4))"
   ]
  },
  {
   "cell_type": "markdown",
   "metadata": {},
   "source": [
    "6. Multinomial NB:"
   ]
  },
  {
   "cell_type": "code",
   "execution_count": 28,
   "metadata": {},
   "outputs": [
    {
     "name": "stdout",
     "output_type": "stream",
     "text": [
      "Accuracy Multinomial NB with param tunning: \n",
      "70.1009\n"
     ]
    }
   ],
   "source": [
    "clf_nb = MultinomialNB(alpha = 0.01)\n",
    "clf_nb.fit(X_train, y_train)\n",
    "nb_predict = clf_nb.predict(X_test)\n",
    "print(\"Accuracy Multinomial NB with param tunning: \")\n",
    "print(round(np.mean(nb_predict == y_test)*100,4))"
   ]
  },
  {
   "cell_type": "markdown",
   "metadata": {},
   "source": [
    "## Experiments"
   ]
  },
  {
   "cell_type": "markdown",
   "metadata": {},
   "source": [
    "######  Experiment 1: Adaboost with different base learners"
   ]
  },
  {
   "cell_type": "markdown",
   "metadata": {},
   "source": [
    "1. Base learner = SVM"
   ]
  },
  {
   "cell_type": "code",
   "execution_count": 29,
   "metadata": {},
   "outputs": [],
   "source": [
    "adasvm_pipe = Pipeline([\n",
    "        ('tfidf', TfidfVectorizer()),\n",
    "        ('adasvm_clf', AdaBoostClassifier(base_estimator = LinearSVC(),algorithm='SAMME', learning_rate = 0.2, n_estimators = 100)),])\n",
    "\n",
    "parameters = {\n",
    "    'adasvm_clf__learning_rate': (0.2, 0.6, 0.8, 1),\n",
    "    'adasvm_clf__n_estimators': (50,100, 120, 150,200),}\n",
    "\n",
    "gs_adasvm = GridSearchCV(adasvm_pipe, parameters, cv=5, scoring='accuracy')\n",
    "gs_adasvm = gs_adasvm.fit(train_data.data, y_train)"
   ]
  },
  {
   "cell_type": "code",
   "execution_count": 30,
   "metadata": {},
   "outputs": [
    {
     "name": "stdout",
     "output_type": "stream",
     "text": [
      "Mean Test Scores:\n",
      "[76.0651 76.0651 76.0651 76.0651 76.0651 76.0651 76.0651 76.0651 76.0651\n",
      " 76.0651 76.0651 76.0651 76.0651 76.0651 76.0651 76.0651 76.0651 76.0651\n",
      " 76.0651 76.0651]\n",
      "\n",
      " Parameters:\n",
      "[{'adasvm_clf__learning_rate': 0.2, 'adasvm_clf__n_estimators': 50}, {'adasvm_clf__learning_rate': 0.2, 'adasvm_clf__n_estimators': 100}, {'adasvm_clf__learning_rate': 0.2, 'adasvm_clf__n_estimators': 120}, {'adasvm_clf__learning_rate': 0.2, 'adasvm_clf__n_estimators': 150}, {'adasvm_clf__learning_rate': 0.2, 'adasvm_clf__n_estimators': 200}, {'adasvm_clf__learning_rate': 0.6, 'adasvm_clf__n_estimators': 50}, {'adasvm_clf__learning_rate': 0.6, 'adasvm_clf__n_estimators': 100}, {'adasvm_clf__learning_rate': 0.6, 'adasvm_clf__n_estimators': 120}, {'adasvm_clf__learning_rate': 0.6, 'adasvm_clf__n_estimators': 150}, {'adasvm_clf__learning_rate': 0.6, 'adasvm_clf__n_estimators': 200}, {'adasvm_clf__learning_rate': 0.8, 'adasvm_clf__n_estimators': 50}, {'adasvm_clf__learning_rate': 0.8, 'adasvm_clf__n_estimators': 100}, {'adasvm_clf__learning_rate': 0.8, 'adasvm_clf__n_estimators': 120}, {'adasvm_clf__learning_rate': 0.8, 'adasvm_clf__n_estimators': 150}, {'adasvm_clf__learning_rate': 0.8, 'adasvm_clf__n_estimators': 200}, {'adasvm_clf__learning_rate': 1, 'adasvm_clf__n_estimators': 50}, {'adasvm_clf__learning_rate': 1, 'adasvm_clf__n_estimators': 100}, {'adasvm_clf__learning_rate': 1, 'adasvm_clf__n_estimators': 120}, {'adasvm_clf__learning_rate': 1, 'adasvm_clf__n_estimators': 150}, {'adasvm_clf__learning_rate': 1, 'adasvm_clf__n_estimators': 200}]\n",
      "\n",
      " Best parameter and best score: \n",
      "{'adasvm_clf__learning_rate': 0.2, 'adasvm_clf__n_estimators': 50}\n",
      "76.0651\n"
     ]
    }
   ],
   "source": [
    "print(\"Mean Test Scores:\")\n",
    "print(np.round(gs_adasvm.cv_results_['mean_test_score']*100,4))\n",
    "print(\"\\n Parameters:\")\n",
    "print(gs_adasvm.cv_results_['params'])\n",
    "print(\"\\n Best parameter and best score: \")\n",
    "print(gs_adasvm.best_params_)\n",
    "print(np.round(gs_adasvm.best_score_*100, 4))"
   ]
  },
  {
   "cell_type": "code",
   "execution_count": 31,
   "metadata": {},
   "outputs": [
    {
     "name": "stdout",
     "output_type": "stream",
     "text": [
      "Accuracy Adaboost with param tunning: \n",
      "69.8088\n"
     ]
    }
   ],
   "source": [
    "adasvm_clf = AdaBoostClassifier(base_estimator = LinearSVC(max_iter = 10000, C = 0.5),algorithm='SAMME', learning_rate = 0.2, n_estimators = 50)\n",
    "adasvm_clf.fit(X_train, y_train)\n",
    "adasvm_predict = adasvm_clf.predict(X_test)\n",
    "print(\"Accuracy Adaboost with param tunning: \")\n",
    "print(round(np.mean(adasvm_predict == y_test)*100,4))"
   ]
  },
  {
   "cell_type": "markdown",
   "metadata": {},
   "source": [
    "2. Base learner = Naive Bayes"
   ]
  },
  {
   "cell_type": "code",
   "execution_count": 32,
   "metadata": {},
   "outputs": [],
   "source": [
    "adanb_pipe = Pipeline([\n",
    "        ('tfidf', TfidfVectorizer()),\n",
    "        ('adanb_clf', AdaBoostClassifier(base_estimator = MultinomialNB(alpha = 0.01),algorithm='SAMME', learning_rate = 0.2, n_estimators = 100)),])\n",
    "\n",
    "parameters = {\n",
    "    'adanb_clf__learning_rate': (0.6, 0.8),\n",
    "    'adanb_clf__n_estimators': (50,100,120, 150,200),}\n",
    "\n",
    "gs_adanb = GridSearchCV(adanb_pipe, parameters, cv=5, scoring='accuracy')\n",
    "gs_adanb = gs_adanb.fit(train_data.data, y_train)"
   ]
  },
  {
   "cell_type": "code",
   "execution_count": 33,
   "metadata": {},
   "outputs": [
    {
     "name": "stdout",
     "output_type": "stream",
     "text": [
      "Mean Test Scores:\n",
      "[56.6997 60.5621 60.8538 61.7112 62.6039 54.0039 58.2818 59.0596 59.6076\n",
      " 60.6152]\n",
      "\n",
      " Parameters:\n",
      "[{'adanb_clf__learning_rate': 0.6, 'adanb_clf__n_estimators': 50}, {'adanb_clf__learning_rate': 0.6, 'adanb_clf__n_estimators': 100}, {'adanb_clf__learning_rate': 0.6, 'adanb_clf__n_estimators': 120}, {'adanb_clf__learning_rate': 0.6, 'adanb_clf__n_estimators': 150}, {'adanb_clf__learning_rate': 0.6, 'adanb_clf__n_estimators': 200}, {'adanb_clf__learning_rate': 0.8, 'adanb_clf__n_estimators': 50}, {'adanb_clf__learning_rate': 0.8, 'adanb_clf__n_estimators': 100}, {'adanb_clf__learning_rate': 0.8, 'adanb_clf__n_estimators': 120}, {'adanb_clf__learning_rate': 0.8, 'adanb_clf__n_estimators': 150}, {'adanb_clf__learning_rate': 0.8, 'adanb_clf__n_estimators': 200}]\n",
      "\n",
      " Best parameter and best score: \n",
      "{'adanb_clf__learning_rate': 0.6, 'adanb_clf__n_estimators': 200}\n",
      "62.6039\n"
     ]
    }
   ],
   "source": [
    "print(\"Mean Test Scores:\")\n",
    "print(np.round(gs_adanb.cv_results_['mean_test_score']*100,4))\n",
    "print(\"\\n Parameters:\")\n",
    "print(gs_adanb.cv_results_['params'])\n",
    "print(\"\\n Best parameter and best score: \")\n",
    "print(gs_adanb.best_params_)\n",
    "print(np.round(gs_adanb.best_score_*100, 4))"
   ]
  },
  {
   "cell_type": "code",
   "execution_count": 34,
   "metadata": {},
   "outputs": [
    {
     "name": "stdout",
     "output_type": "stream",
     "text": [
      "Accuracy Adaboost with param tunning: \n",
      "61.2985\n"
     ]
    }
   ],
   "source": [
    "adanb_clf = AdaBoostClassifier(base_estimator = MultinomialNB(alpha = 0.01),algorithm='SAMME', learning_rate = 0.6, n_estimators = 200)\n",
    "adanb_clf.fit(X_train, y_train)\n",
    "adanb_predict = adanb_clf.predict(X_test)\n",
    "print(\"Accuracy Adaboost with param tunning: \")\n",
    "print(round(np.mean(adanb_predict == y_test)*100,4))"
   ]
  },
  {
   "cell_type": "markdown",
   "metadata": {},
   "source": [
    "######  Experiment 2: prediction with combined models\n",
    "* Models to be used:\n",
    "    - Logistic Regression\n",
    "    - SVM\n",
    "    - Adaboost (base learner = decision tree)\n",
    "    - Random Forest\n",
    "    - Naive Bayes"
   ]
  },
  {
   "cell_type": "code",
   "execution_count": 35,
   "metadata": {},
   "outputs": [],
   "source": [
    "#Definition of function for combined weight\n",
    "def combined_model(X_train, y_train, X_test, weight):\n",
    "    #Define all of the models\n",
    "    log_comb = LogisticRegression(C = 10, solver = 'sag',multi_class = 'multinomial')\n",
    "    svm_comb = LinearSVC(C = 0.5, max_iter = 10000)\n",
    "    rndm_comb = RandomForestClassifier(bootstrap = True, criterion = 'gini', max_depth = 80, n_estimators = 300)\n",
    "    nb_comb = MultinomialNB(alpha = 0.01)\n",
    "    ada_comb = AdaBoostClassifier(base_estimator = LinearSVC(),algorithm='SAMME', learning_rate = 0.2, n_estimators = 50)\n",
    "    \n",
    "    #Separate into random \n",
    "    \n",
    "    #Fit all the models to train data\n",
    "    fit_log = log_comb.fit(X_train, y_train)\n",
    "    fit_svm = svm_comb.fit(X_train, y_train)\n",
    "    fit_rndm= rndm_comb.fit(X_train, y_train)\n",
    "    fit_nb = nb_comb.fit(X_train, y_train)\n",
    "    fit_ada = ada_comb.fit(X_train, y_train)\n",
    "    \n",
    "    #Predictions for each model\n",
    "    yh_log = log_comb.predict(X_test)    \n",
    "    yh_svm = svm_comb.predict(X_test)\n",
    "    yh_rndm = rndm_comb.predict(X_test)\n",
    "    yh_nb = nb_comb.predict(X_test)\n",
    "    yh_ada = ada_comb.predict(X_test)\n",
    "    \n",
    "    #Concatenate all predictions\n",
    "    YH = np.vstack((yh_log, yh_svm, yh_rndm, yh_nb, yh_ada))\n",
    "    \n",
    "    #Calculate combindation of predictions\n",
    "    prediction = np.array([])\n",
    "    for t in np.arange(YH.shape[1]):\n",
    "        unique, counts = np.unique(YH[:,t], return_counts=True)\n",
    "        index_yh = np.where(counts == np.amax(counts))[0]\n",
    "        if index_yh.size >= 2:\n",
    "            yh_dummy = YH[weight,t]\n",
    "        else:\n",
    "            yh_dummy = unique[index_yh]\n",
    "        prediction = np.concatenate((prediction, yh_dummy), axis = None).astype('int')\n",
    "    return prediction\n"
   ]
  },
  {
   "cell_type": "markdown",
   "metadata": {},
   "source": [
    "*Cross Validation of combined model*"
   ]
  },
  {
   "cell_type": "code",
   "execution_count": 36,
   "metadata": {},
   "outputs": [
    {
     "name": "stdout",
     "output_type": "stream",
     "text": [
      "Accuracy Combined model: \n",
      "76.1538\n",
      "Accuracy Combined model: \n",
      "77.4476\n",
      "Accuracy Combined model: \n",
      "78.0313\n",
      "Accuracy Combined model: \n",
      "76.8904\n",
      "Accuracy Combined model: \n",
      "76.0679\n",
      "\n",
      "Accuracy Cross Validations: \n",
      "[76.1538 77.4476 78.0313 76.8904 76.0679]\n",
      "\n",
      "Mean Accuracy: \n",
      "76.9182\n"
     ]
    }
   ],
   "source": [
    "X_total = vstack((X_train,X_test))\n",
    "y_total = np.hstack((y_train,y_test))\n",
    "X_total, y_total = shuffle(X_total, y_total)\n",
    "\n",
    "\n",
    "kfold = KFold(n_splits=5, random_state=None, shuffle=False)\n",
    "kfold.get_n_splits(X_total)\n",
    "Accuracy_vec_comb = np.array([])\n",
    "for train, test in kfold.split(X_total):\n",
    "    X_train_1 = X_total[train]\n",
    "    X_test_1 = X_total[test]\n",
    "    y_train_1 = np.array(y_total[train])\n",
    "    y_test_1 = np.array(y_total[test])\n",
    "\n",
    "    comb_prediction = combined_model(X_train_1,y_train_1,X_test_1,3)\n",
    "    print(\"Accuracy Combined model: \")\n",
    "    Acc = np.round(np.mean(comb_prediction == y_test_1)*100,4)\n",
    "    print(Acc)\n",
    "    Accuracy_vec_comb = np.concatenate((Accuracy_vec_comb, Acc), axis = None)\n",
    "print(\"\")\n",
    "print(\"Accuracy Cross Validations: \")\n",
    "print(Accuracy_vec_comb)\n",
    "print(\"\")\n",
    "print(\"Mean Accuracy: \")\n",
    "Acc_mean_comb = np.mean(Accuracy_vec_comb)\n",
    "print(Acc_mean_comb)"
   ]
  },
  {
   "cell_type": "markdown",
   "metadata": {},
   "source": [
    "Final performance test"
   ]
  },
  {
   "cell_type": "code",
   "execution_count": 37,
   "metadata": {},
   "outputs": [
    {
     "name": "stdout",
     "output_type": "stream",
     "text": [
      "Accuracy Combined model: \n",
      "70.3797\n"
     ]
    }
   ],
   "source": [
    "comb_prediction = combined_model(X_train,y_train,X_test,3)\n",
    "print(\"Accuracy Combined model: \")\n",
    "Acc = np.round(np.mean(comb_prediction == y_test)*100,4)\n",
    "print(Acc)"
   ]
  },
  {
   "cell_type": "markdown",
   "metadata": {},
   "source": [
    "###### Experiment 3: Hierarchichal Classification"
   ]
  },
  {
   "cell_type": "markdown",
   "metadata": {},
   "source": [
    "**First Hierarchical Tree**"
   ]
  },
  {
   "cell_type": "markdown",
   "metadata": {},
   "source": [
    "Definition of Hierarchy Classifier function"
   ]
  },
  {
   "cell_type": "code",
   "execution_count": 38,
   "metadata": {},
   "outputs": [],
   "source": [
    "def hierarchy_pred(X_train, y_train, X_test, base_learner: str):\n",
    "    #First level labels\n",
    "    y_a1 = np.array(np.sort([0,15,19,16,17,18]))\n",
    "    y_a2 = np.array(np.sort([1,2,5,3,4]))\n",
    "    y_a3 = np.array([7,8])\n",
    "    y_a4 = np.array([9,10])\n",
    "    y_a5 = np.array([11,12,13,14])\n",
    "    y_a6 = np.array([6])\n",
    "\n",
    "    #Generate first level label vector\n",
    "    def index_group(y_a1, y_train):\n",
    "        index_a1 = np.array([])\n",
    "        for t in np.arange(y_a1.size):\n",
    "            index = np.where(y_train == y_a1[t])[0]\n",
    "            index_a1 = np.concatenate((index_a1,index), axis = None)\n",
    "        index_a1 = np.sort(index_a1).astype('int')\n",
    "        return index_a1\n",
    "\n",
    "    def y_group(y_train, index1, index2, index3, index4, index5, index6):\n",
    "            y_new = -1*np.ones(y_train.size)\n",
    "            y_new[index1] = 1\n",
    "            y_new[index2] = 2\n",
    "            y_new[index3] = 3\n",
    "            y_new[index4] = 4\n",
    "            y_new[index5] = 5\n",
    "            y_new[index6] = 6\n",
    "            return y_new\n",
    "\n",
    "    index_a1 = index_group(y_a1, y_train)\n",
    "    index_a2 = index_group(y_a2, y_train)\n",
    "    index_a3 = index_group(y_a3, y_train)\n",
    "    index_a4 = index_group(y_a4, y_train)\n",
    "    index_a5 = index_group(y_a5, y_train)\n",
    "    index_a6 = index_group(y_a6, y_train)\n",
    "    y_trainA = y_group(y_train, index_a1, index_a2, index_a3, index_a4, index_a5, index_a6)\n",
    "\n",
    "\n",
    "    #Second level labels\n",
    "    y_b1 = np.array([0])\n",
    "    y_b2 = np.array([15])\n",
    "    y_b3 = np.array([19])\n",
    "    y_b4 = np.array([16,17,18])\n",
    "    y_b5 = np.array([1,2,5])\n",
    "    y_b6 = np.array([3,4])\n",
    "\n",
    "    #Split first level dataset\n",
    "    def split_data(X_train, y_trainA, y_train, label):\n",
    "        index_split = np.where((y_trainA == label))[0]\n",
    "        X_split = X_train[index_split,:]\n",
    "        y_split = y_train[index_split]\n",
    "        return X_split, y_split\n",
    "\n",
    "    X_train_a1, y_train_a1 = split_data(X_train, y_trainA, y_train, 1)\n",
    "    X_train_a2, y_train_a2 = split_data(X_train, y_trainA, y_train, 2)\n",
    "\n",
    "    #Generate Second level label vectors\n",
    "    index_b4 = index_group(y_b4, y_train_a1)\n",
    "    index_b5 = index_group(y_b5, y_train_a2)\n",
    "    index_b6 = index_group(y_b6, y_train_a2)\n",
    "\n",
    "    def y_groupB(y_train_a1, index, label):\n",
    "        y_train_a1[index] = label\n",
    "        return y_train_a1\n",
    "\n",
    "    y_train_a1 = y_groupB(y_train_a1, index_b4, 4)\n",
    "    y_train_a2 = y_groupB(y_train_a2, index_b5, 5)\n",
    "    y_train_a2 = y_groupB(y_train_a2, index_b6, 6)\n",
    "\n",
    "    #Split second level dataset\n",
    "    index_c1 = index_group(y_b4, y_train)\n",
    "    index_c2 = index_group(y_b5, y_train)\n",
    "    index_c3 = index_group(y_b6, y_train)\n",
    "    index_c4 = index_group(y_a3, y_train)\n",
    "    index_c5 = index_group(y_a4, y_train)\n",
    "    index_c6 = index_group(y_a5, y_train)\n",
    "\n",
    "    X_train_c1 = X_train[index_c1,:]\n",
    "    X_train_c2 = X_train[index_c2,:]\n",
    "    X_train_c3 = X_train[index_c3,:]\n",
    "    X_train_c4 = X_train[index_c4,:]\n",
    "    X_train_c5 = X_train[index_c5,:]\n",
    "    X_train_c6 = X_train[index_c6,:]\n",
    "\n",
    "    #Generate third level label vectors\n",
    "    y_train_c1 = y_train[index_c1]\n",
    "    y_train_c2 = y_train[index_c2]\n",
    "    y_train_c3 = y_train[index_c3]\n",
    "    y_train_c4 = y_train[index_c4]\n",
    "    y_train_c5 = y_train[index_c5]\n",
    "    y_train_c6 = y_train[index_c6]\n",
    "\n",
    "    #Fit training data with respect to base learner\n",
    "    \n",
    "    \n",
    "    if base_learner == 'NB':\n",
    "        clf_1 = MultinomialNB(alpha = 0.01).fit(X_train, y_trainA)\n",
    "        clf_a1 = MultinomialNB(alpha = 0.01).fit(X_train_a1, y_train_a1)\n",
    "        clf_a2 = MultinomialNB(alpha = 0.01).fit(X_train_a2, y_train_a2)\n",
    "        clf_c1 = MultinomialNB(alpha = 0.01).fit(X_train_c1, y_train_c1)\n",
    "        clf_c2 = MultinomialNB(alpha = 0.01).fit(X_train_c2, y_train_c2)\n",
    "        clf_c3 = MultinomialNB(alpha = 0.01).fit(X_train_c3, y_train_c3)\n",
    "        clf_c4 = MultinomialNB(alpha = 0.01).fit(X_train_c4, y_train_c4)\n",
    "        clf_c5 = MultinomialNB(alpha = 0.01).fit(X_train_c5, y_train_c5)\n",
    "        clf_c6 = MultinomialNB(alpha = 0.01).fit(X_train_c6, y_train_c6)\n",
    "\n",
    "    elif base_learner == 'SVM':\n",
    "        clf_1 = LinearSVC(C = 0.5, max_iter = 10000).fit(X_train, y_trainA)\n",
    "        clf_a1 = LinearSVC(C = 0.5, max_iter = 10000).fit(X_train_a1, y_train_a1)\n",
    "        clf_a2 = LinearSVC(C = 0.5, max_iter = 10000).fit(X_train_a2, y_train_a2)\n",
    "        clf_c1 = LinearSVC(C = 0.5, max_iter = 10000).fit(X_train_c1, y_train_c1)\n",
    "        clf_c2 = LinearSVC(C = 0.5, max_iter = 10000).fit(X_train_c2, y_train_c2)\n",
    "        clf_c3 = LinearSVC(C = 0.5, max_iter = 10000).fit(X_train_c3, y_train_c3)\n",
    "        clf_c4 = LinearSVC(C = 0.5, max_iter = 10000).fit(X_train_c4, y_train_c4)\n",
    "        clf_c5 = LinearSVC(C = 0.5, max_iter = 10000).fit(X_train_c5, y_train_c5)\n",
    "        clf_c6 = LinearSVC(C = 0.5, max_iter = 10000).fit(X_train_c6, y_train_c6)\n",
    "\n",
    "    elif base_learner == 'LR':\n",
    "        clf_1 = LogisticRegression(C = 10, solver = 'sag',multi_class = 'multinomial').fit(X_train, y_trainA)\n",
    "        clf_a1 = LogisticRegression(C = 10, solver = 'sag',multi_class = 'multinomial').fit(X_train_a1, y_train_a1)\n",
    "        clf_a2 = LogisticRegression(C = 10, solver = 'sag',multi_class = 'multinomial').fit(X_train_a2, y_train_a2)\n",
    "        clf_c1 = LogisticRegression(C = 10, solver = 'sag',multi_class = 'multinomial').fit(X_train_c1, y_train_c1)\n",
    "        clf_c2 = LogisticRegression(C = 10, solver = 'sag',multi_class = 'multinomial').fit(X_train_c2, y_train_c2)\n",
    "        clf_c3 = LogisticRegression(C = 10, solver = 'sag',multi_class = 'multinomial').fit(X_train_c3, y_train_c3)\n",
    "        clf_c4 = LogisticRegression(C = 10, solver = 'sag',multi_class = 'multinomial').fit(X_train_c4, y_train_c4)\n",
    "        clf_c5 = LogisticRegression(C = 10, solver = 'sag',multi_class = 'multinomial').fit(X_train_c5, y_train_c5)\n",
    "        clf_c6 = LogisticRegression(C = 10, solver = 'sag',multi_class = 'multinomial').fit(X_train_c6, y_train_c6)\n",
    "        \n",
    "    yh_final = np.array([])\n",
    "    for x in np.arange(X_test.shape[0]):\n",
    "        yh_new = clf_1.predict(X_test[x])\n",
    "        if yh_new == 1:\n",
    "            yh_new = clf_a1.predict(X_test[x])\n",
    "            if yh_new == 4:\n",
    "                yh_new = clf_c1.predict(X_test[x])\n",
    "        elif yh_new == 2:\n",
    "            yh_new = clf_a2.predict(X_test[x])\n",
    "            if yh_new == 5:\n",
    "                yh_new = clf_c2.predict(X_test[x])\n",
    "            elif yh_new ==6:\n",
    "                yh_new = clf_c3.predict(X_test[x])\n",
    "        elif yh_new == 3:\n",
    "            yh_new = clf_c4.predict(X_test[x])\n",
    "        elif yh_new == 4:\n",
    "            yh_new = clf_c5.predict(X_test[x])\n",
    "        elif yh_new == 5:\n",
    "            yh_new = clf_c6.predict(X_test[x])\n",
    "        yh_final = np.concatenate((yh_final,yh_new))\n",
    "    return yh_final\n",
    "\n"
   ]
  },
  {
   "cell_type": "markdown",
   "metadata": {},
   "source": [
    "1. Base learner = Multinomial NB"
   ]
  },
  {
   "cell_type": "code",
   "execution_count": 39,
   "metadata": {},
   "outputs": [
    {
     "name": "stdout",
     "output_type": "stream",
     "text": [
      "Accuracy Combined model: \n",
      "74.191\n",
      "Accuracy Combined model: \n",
      "74.7678\n",
      "Accuracy Combined model: \n",
      "74.8474\n",
      "Accuracy Combined model: \n",
      "75.4046\n",
      "Accuracy Combined model: \n",
      "73.2555\n",
      "\n",
      "Accuracy Cross Validations: \n",
      "[74.191  74.7678 74.8474 75.4046 73.2555]\n",
      "\n",
      "Mean Accuracy: \n",
      "74.49325999999999\n"
     ]
    }
   ],
   "source": [
    "kfold_1 = KFold(n_splits=5, random_state=None, shuffle=False)\n",
    "kfold_1.get_n_splits(X_total)\n",
    "Accuracy_vec_hier = np.array([])\n",
    "for train, test in kfold_1.split(X_total):\n",
    "    X_train_2 = X_total[train]\n",
    "    X_test_2 = X_total[test]\n",
    "    y_train_2 = np.array(y_total[train])\n",
    "    y_test_2 = np.array(y_total[test])\n",
    "\n",
    "    predict_hier = hierarchy_pred(X_train_2, y_train_2, X_test_2, base_learner = 'NB')\n",
    "    print(\"Accuracy Combined model: \")\n",
    "    Acc_h = np.round(np.mean(predict_hier == y_test_2)*100,4)\n",
    "    print(Acc_h)\n",
    "    Accuracy_vec_hier = np.concatenate((Accuracy_vec_hier, Acc_h), axis = None)\n",
    "print(\"\")\n",
    "print(\"Accuracy Cross Validations: \")\n",
    "print(Accuracy_vec_hier)\n",
    "print(\"\")\n",
    "print(\"Mean Accuracy: \")\n",
    "Acc_mean_hier = np.mean(Accuracy_vec_hier)\n",
    "print(Acc_mean_hier)"
   ]
  },
  {
   "cell_type": "code",
   "execution_count": 40,
   "metadata": {},
   "outputs": [
    {
     "name": "stdout",
     "output_type": "stream",
     "text": [
      "Accuracy 1st Hierarchical model with Naive Bayes: \n",
      "67.6447\n"
     ]
    }
   ],
   "source": [
    "predict_hier = hierarchy_pred(X_train, y_train, X_test, base_learner = 'NB')\n",
    "print(\"Accuracy 1st Hierarchical model with Naive Bayes: \")\n",
    "Acc_h = np.round(np.mean(predict_hier == y_test)*100,4)\n",
    "print(Acc_h)"
   ]
  },
  {
   "cell_type": "markdown",
   "metadata": {},
   "source": [
    "2. Base learner = SVM"
   ]
  },
  {
   "cell_type": "code",
   "execution_count": 41,
   "metadata": {},
   "outputs": [
    {
     "name": "stdout",
     "output_type": "stream",
     "text": [
      "Accuracy Combined model: \n",
      "71.9363\n",
      "Accuracy Combined model: \n",
      "74.2903\n",
      "Accuracy Combined model: \n",
      "73.6535\n",
      "Accuracy Combined model: \n",
      "72.5126\n",
      "Accuracy Combined model: \n",
      "72.9637\n",
      "\n",
      "Accuracy Cross Validations: \n",
      "[71.9363 74.2903 73.6535 72.5126 72.9637]\n",
      "\n",
      "Mean Accuracy: \n",
      "73.07128000000002\n"
     ]
    }
   ],
   "source": [
    "kfold_1 = KFold(n_splits=5, random_state=None, shuffle=False)\n",
    "kfold_1.get_n_splits(X_total)\n",
    "Accuracy_vec_hier = np.array([])\n",
    "for train, test in kfold_1.split(X_total):\n",
    "    X_train_2 = X_total[train]\n",
    "    X_test_2 = X_total[test]\n",
    "    y_train_2 = np.array(y_total[train])\n",
    "    y_test_2 = np.array(y_total[test])\n",
    "\n",
    "    predict_hier = hierarchy_pred(X_train_2, y_train_2, X_test_2, base_learner = 'SVM')\n",
    "    print(\"Accuracy Combined model: \")\n",
    "    Acc_h = np.round(np.mean(predict_hier == y_test_2)*100,4)\n",
    "    print(Acc_h)\n",
    "    Accuracy_vec_hier = np.concatenate((Accuracy_vec_hier, Acc_h), axis = None)\n",
    "print(\"\")\n",
    "print(\"Accuracy Cross Validations: \")\n",
    "print(Accuracy_vec_hier)\n",
    "print(\"\")\n",
    "print(\"Mean Accuracy: \")\n",
    "Acc_mean_hier = np.mean(Accuracy_vec_hier)\n",
    "print(Acc_mean_hier)"
   ]
  },
  {
   "cell_type": "code",
   "execution_count": 42,
   "metadata": {},
   "outputs": [
    {
     "name": "stdout",
     "output_type": "stream",
     "text": [
      "Accuracy 1st Hierarchical model with SVM: \n",
      "66.4365\n"
     ]
    }
   ],
   "source": [
    "predict_hier = hierarchy_pred(X_train, y_train, X_test, base_learner = 'SVM')\n",
    "print(\"Accuracy 1st Hierarchical model with SVM: \")\n",
    "Acc_h = np.round(np.mean(predict_hier == y_test)*100,4)\n",
    "print(Acc_h)"
   ]
  },
  {
   "cell_type": "markdown",
   "metadata": {},
   "source": [
    "3. Base learner = Logistic Regression"
   ]
  },
  {
   "cell_type": "code",
   "execution_count": 43,
   "metadata": {
    "scrolled": false
   },
   "outputs": [
    {
     "name": "stdout",
     "output_type": "stream",
     "text": [
      "Accuracy Combined model: \n",
      "71.4589\n",
      "Accuracy Combined model: \n",
      "73.9719\n",
      "Accuracy Combined model: \n",
      "73.2024\n",
      "Accuracy Combined model: \n",
      "72.1942\n",
      "Accuracy Combined model: \n",
      "72.6718\n",
      "\n",
      "Accuracy Cross Validations: \n",
      "[71.4589 73.9719 73.2024 72.1942 72.6718]\n",
      "\n",
      "Mean Accuracy: \n",
      "72.69984000000001\n"
     ]
    }
   ],
   "source": [
    "kfold_1 = KFold(n_splits=5, random_state=None, shuffle=False)\n",
    "kfold_1.get_n_splits(X_total)\n",
    "Accuracy_vec_hier = np.array([])\n",
    "for train, test in kfold_1.split(X_total):\n",
    "    X_train_2 = X_total[train]\n",
    "    X_test_2 = X_total[test]\n",
    "    y_train_2 = np.array(y_total[train])\n",
    "    y_test_2 = np.array(y_total[test])\n",
    "\n",
    "    predict_hier = hierarchy_pred(X_train_2, y_train_2, X_test_2, base_learner = 'LR')\n",
    "    print(\"Accuracy Combined model: \")\n",
    "    Acc_h = np.round(np.mean(predict_hier == y_test_2)*100,4)\n",
    "    print(Acc_h)\n",
    "    Accuracy_vec_hier = np.concatenate((Accuracy_vec_hier, Acc_h), axis = None)\n",
    "print(\"\")\n",
    "print(\"Accuracy Cross Validations: \")\n",
    "print(Accuracy_vec_hier)\n",
    "print(\"\")\n",
    "print(\"Mean Accuracy: \")\n",
    "Acc_mean_hier = np.mean(Accuracy_vec_hier)\n",
    "print(Acc_mean_hier)"
   ]
  },
  {
   "cell_type": "code",
   "execution_count": 44,
   "metadata": {},
   "outputs": [
    {
     "name": "stdout",
     "output_type": "stream",
     "text": [
      "Accuracy 1st Hierarchical model with Logistic Regression: \n",
      "66.0913\n"
     ]
    }
   ],
   "source": [
    "predict_hier = hierarchy_pred(X_train, y_train, X_test, base_learner = 'LR')\n",
    "print(\"Accuracy 1st Hierarchical model with Logistic Regression: \")\n",
    "Acc_h = np.round(np.mean(predict_hier == y_test)*100,4)\n",
    "print(Acc_h)"
   ]
  },
  {
   "cell_type": "markdown",
   "metadata": {},
   "source": [
    "**Second Hierarchical Tree**"
   ]
  },
  {
   "cell_type": "markdown",
   "metadata": {},
   "source": [
    "Definition of Hierarchy Classifier function"
   ]
  },
  {
   "cell_type": "code",
   "execution_count": 45,
   "metadata": {},
   "outputs": [],
   "source": [
    "def hierarchy_pred(X_train, y_train, X_test, base_learner: str):\n",
    "    #First level labels\n",
    "    y_a1 = np.array(np.sort([0,15,19,16,17,18]))\n",
    "    y_a2 = np.array(np.sort([1,2,5,3,4, 6, 12]))\n",
    "    y_a3 = np.array([11,13,14])\n",
    "    y_a4 = np.array([7,8])\n",
    "    y_a5 = np.array([9,10])\n",
    "\n",
    "    #Second level labels\n",
    "    y_b1 = np.array(np.sort([0,15,19]))\n",
    "    y_b2 = np.array(np.sort([16,17,18]))\n",
    "    y_b3 = np.array(np.sort([1,2,5,3,4]))\n",
    "    y_b4 = np.array(np.sort([6, 12]))\n",
    "\n",
    "    #Third level labels\n",
    "    y_c1 = np.array(np.sort([1,2,5]))\n",
    "    y_c2 = np.array(np.sort([3,4]))\n",
    "\n",
    "    #Function to generate indices\n",
    "    def index_group(y_a1, y_train):\n",
    "            index_a1 = np.array([])\n",
    "            for t in np.arange(y_a1.size):\n",
    "                index = np.where(y_train == y_a1[t])[0]\n",
    "                index_a1 = np.concatenate((index_a1,index), axis = None)\n",
    "            index_a1 = np.sort(index_a1).astype('int')\n",
    "            return index_a1\n",
    "\n",
    "    #First level indices\n",
    "    index_a1 = index_group(y_a1, y_train)\n",
    "    index_a2 = index_group(y_a2, y_train)\n",
    "    index_a3 = index_group(y_a3, y_train)\n",
    "    index_a4 = index_group(y_a4, y_train)\n",
    "    index_a5 = index_group(y_a5, y_train)\n",
    "\n",
    "    #Second level indices \n",
    "    index_b1 = index_group(y_b1, y_train)\n",
    "    index_b2 = index_group(y_b2, y_train)\n",
    "    index_b3 = index_group(y_b3, y_train)\n",
    "    index_b4 = index_group(y_b4, y_train)\n",
    "\n",
    "    #Third level indices\n",
    "    index_c1 = index_group(y_c1, y_train)\n",
    "    index_c2 = index_group(y_c2, y_train)\n",
    "\n",
    "    #Relabeling of target\n",
    "    def first_lev_y(y_train, index_a1, index_a2, index_a3, index_a4, index_a5):\n",
    "        y_new = -1*np.ones(y_train.size)\n",
    "        y_new[index_a1] = 1\n",
    "        y_new[index_a2] = 2\n",
    "        y_new[index_a3] = 3\n",
    "        y_new[index_a4] = 4\n",
    "        y_new[index_a5] = 5\n",
    "        return y_new\n",
    "\n",
    "    y_train_first = first_lev_y(y_train, index_a1, index_a2, index_a3, index_a4, index_a5)\n",
    "\n",
    "    def split_dataset(X_train, y_train, index_a1):\n",
    "        X_train_a1 = X_train[index_a1,:]\n",
    "        y_train_a1 = y_train[index_a1]\n",
    "        return X_train_a1, y_train_a1\n",
    "\n",
    "    #First level dataset split\n",
    "    X_train_a1, y_train_a1 = split_dataset(X_train, y_train, index_a1)\n",
    "    X_train_a2, y_train_a2 = split_dataset(X_train, y_train, index_a2)\n",
    "    X_train_a3, y_train_a3 = split_dataset(X_train, y_train, index_a3)\n",
    "    X_train_a4, y_train_a4 = split_dataset(X_train, y_train, index_a4)\n",
    "    X_train_a5, y_train_a5 = split_dataset(X_train, y_train, index_a5)\n",
    "\n",
    "    #Relabeling of target\n",
    "    def second_level_y(y_train_a1,y_train_a2, y_b1, y_b2, y_b3, y_b4):\n",
    "        y_new_1 = -1*np.ones(y_train_a1.size)\n",
    "        y_new_2 = -1*np.ones(y_train_a2.size)\n",
    "        index_b1 = index_group(y_b1, y_train_a1)\n",
    "        index_b2 = index_group(y_b2, y_train_a1)\n",
    "        index_b3 = index_group(y_b3, y_train_a2)\n",
    "        index_b4 = index_group(y_b4, y_train_a2)\n",
    "        y_new_1[index_b1] = 1\n",
    "        y_new_1[index_b2] = 2\n",
    "        y_new_2[index_b3] = 3\n",
    "        y_new_2[index_b4] = 4\n",
    "        return y_new_1, y_new_2\n",
    "\n",
    "    y_train_second_a1, y_train_second_a2 = second_level_y(y_train_a1,y_train_a2, y_b1, y_b2, y_b3, y_b4)\n",
    "\n",
    "    #Second level dataset split\n",
    "    X_train_b1, y_train_b1 = split_dataset(X_train, y_train, index_b1)\n",
    "    X_train_b2, y_train_b2 = split_dataset(X_train, y_train, index_b2)\n",
    "    X_train_b3, y_train_b3 = split_dataset(X_train, y_train, index_b3)\n",
    "    X_train_b4, y_train_b4 = split_dataset(X_train, y_train, index_b4)\n",
    "\n",
    "    #Relabeling of target\n",
    "    def third_level_y(y_train_b3, y_c1, y_c2):\n",
    "        y_new = -1*np.ones(y_train_b3.size)\n",
    "        index_c1 = index_group(y_c1, y_train_b3)\n",
    "        index_c2 = index_group(y_c2, y_train_b3)\n",
    "        y_new[index_c1] = 1\n",
    "        y_new[index_c2] = 2\n",
    "        return y_new\n",
    "\n",
    "    y_train_third_b3 = third_level_y(y_train_b3, y_c1, y_c2)\n",
    "\n",
    "    #Third level dataset split\n",
    "    X_train_c1, y_train_c1 = split_dataset(X_train, y_train, index_c1)\n",
    "    X_train_c2, y_train_c2 = split_dataset(X_train, y_train, index_c2)\n",
    "\n",
    "    #Fit training data with respect to base learner\n",
    "    if base_learner == 'NB':\n",
    "        clf_1 = MultinomialNB(alpha = 0.01).fit(X_train, y_train_first)\n",
    "        clf_a1 = MultinomialNB(alpha = 0.01).fit(X_train_a1, y_train_second_a1)\n",
    "        clf_a2 = MultinomialNB(alpha = 0.01).fit(X_train_a2, y_train_second_a2)\n",
    "        clf_a3 = MultinomialNB(alpha = 0.01).fit(X_train_a3, y_train_a3)\n",
    "        clf_a4 = MultinomialNB(alpha = 0.01).fit(X_train_a4, y_train_a4)\n",
    "        clf_a5 = MultinomialNB(alpha = 0.01).fit(X_train_a5, y_train_a5)\n",
    "        clf_b1 = MultinomialNB(alpha = 0.01).fit(X_train_b1, y_train_b1)\n",
    "        clf_b2 = MultinomialNB(alpha = 0.01).fit(X_train_b2, y_train_b2)\n",
    "        clf_b3 = MultinomialNB(alpha = 0.01).fit(X_train_b3, y_train_third_b3)\n",
    "        clf_b4 = MultinomialNB(alpha = 0.01).fit(X_train_b4, y_train_b4)\n",
    "        clf_c1 = MultinomialNB(alpha = 0.01).fit(X_train_c1, y_train_c1)\n",
    "        clf_c2 = MultinomialNB(alpha = 0.01).fit(X_train_c2, y_train_c2)\n",
    "\n",
    "\n",
    "    elif base_learner == 'SVM':\n",
    "        clf_1 = LinearSVC(C = 0.5, max_iter = 10000).fit(X_train, y_train_first)\n",
    "        clf_a1 = LinearSVC(C = 0.5, max_iter = 10000).fit(X_train_a1, y_train_second_a1)\n",
    "        clf_a2 = LinearSVC(C = 0.5, max_iter = 10000).fit(X_train_a2, y_train_second_a2)\n",
    "        clf_a3 = LinearSVC(C = 0.5, max_iter = 10000).fit(X_train_a3, y_train_a3)\n",
    "        clf_a4 = LinearSVC(C = 0.5, max_iter = 10000).fit(X_train_a4, y_train_a4)\n",
    "        clf_a5 = LinearSVC(C = 0.5, max_iter = 10000).fit(X_train_a5, y_train_a5)\n",
    "        clf_b1 = LinearSVC(C = 0.5, max_iter = 10000).fit(X_train_b1, y_train_b1)\n",
    "        clf_b2 = LinearSVC(C = 0.5, max_iter = 10000).fit(X_train_b2, y_train_b2)\n",
    "        clf_b3 = LinearSVC(C = 0.5, max_iter = 10000).fit(X_train_b3, y_train_third_b3)\n",
    "        clf_b4 = LinearSVC(C = 0.5, max_iter = 10000).fit(X_train_b4, y_train_b4)\n",
    "        clf_c1 = LinearSVC(C = 0.5, max_iter = 10000).fit(X_train_c1, y_train_c1)\n",
    "        clf_c2 = LinearSVC(C = 0.5, max_iter = 10000).fit(X_train_c2, y_train_c2)   \n",
    "\n",
    "    elif base_learner == 'LR':\n",
    "        clf_1 = LogisticRegression(C = 10, solver = 'sag',multi_class = 'multinomial').fit(X_train, y_train_first)\n",
    "        clf_a1 = LogisticRegression(C = 10, solver = 'sag',multi_class = 'multinomial').fit(X_train_a1, y_train_second_a1)\n",
    "        clf_a2 = LogisticRegression(C = 10, solver = 'sag',multi_class = 'multinomial').fit(X_train_a2, y_train_second_a2)\n",
    "        clf_a3 = LogisticRegression(C = 10, solver = 'sag',multi_class = 'multinomial').fit(X_train_a3, y_train_a3)\n",
    "        clf_a4 = LogisticRegression(C = 10, solver = 'sag',multi_class = 'multinomial').fit(X_train_a4, y_train_a4)\n",
    "        clf_a5 = LogisticRegression(C = 10, solver = 'sag',multi_class = 'multinomial').fit(X_train_a5, y_train_a5)\n",
    "        clf_b1 = LogisticRegression(C = 10, solver = 'sag',multi_class = 'multinomial').fit(X_train_b1, y_train_b1)\n",
    "        clf_b2 = LogisticRegression(C = 10, solver = 'sag',multi_class = 'multinomial').fit(X_train_b2, y_train_b2)\n",
    "        clf_b3 = LogisticRegression(C = 10, solver = 'sag',multi_class = 'multinomial').fit(X_train_b3, y_train_third_b3)\n",
    "        clf_b4 = LogisticRegression(C = 10, solver = 'sag',multi_class = 'multinomial').fit(X_train_b4, y_train_b4)\n",
    "        clf_c1 = LogisticRegression(C = 10, solver = 'sag',multi_class = 'multinomial').fit(X_train_c1, y_train_c1)\n",
    "        clf_c2 = LogisticRegression(C = 10, solver = 'sag',multi_class = 'multinomial').fit(X_train_c2, y_train_c2)\n",
    "\n",
    "\n",
    "    yh_final = np.array([])\n",
    "    for x in np.arange(X_test.shape[0]):\n",
    "        yh_new = clf_1.predict(X_test[x])\n",
    "        if yh_new == 1:\n",
    "            yh_new = clf_a1.predict(X_test[x])\n",
    "            if yh_new == 1:\n",
    "                yh_new = clf_b1.predict(X_test[x])\n",
    "            elif yh_new == 2:\n",
    "                yh_new = clf_b2.predict(X_test[x])\n",
    "\n",
    "        elif yh_new == 2:\n",
    "            yh_new = clf_a2.predict(X_test[x])\n",
    "            if yh_new == 1:\n",
    "                yh_new = clf_b3.predict(X_test[x])\n",
    "                if yh_new == 1:\n",
    "                    yh_new = clf_c1.predict(X_test[x])\n",
    "                elif yh_new == 2:\n",
    "                    yh_new = clf_c2.predict(X_test[x])\n",
    "            elif yh_new == 2:\n",
    "                yh_new = clf_b4.predict(X_test[x])\n",
    "\n",
    "        elif yh_new == 3:\n",
    "            yh_new = clf_a3.predict(X_test[x])\n",
    "        elif yh_new == 4:\n",
    "            yh_new = clf_a4.predict(X_test[x])\n",
    "        elif yh_new == 5:\n",
    "            yh_new = clf_a5.predict(X_test[x])\n",
    "\n",
    "        yh_final = np.concatenate((yh_final,yh_new))\n",
    "\n",
    "    return yh_final"
   ]
  },
  {
   "cell_type": "markdown",
   "metadata": {},
   "source": [
    "1. Base learner = Multinomial NB"
   ]
  },
  {
   "cell_type": "code",
   "execution_count": 46,
   "metadata": {
    "scrolled": true
   },
   "outputs": [
    {
     "name": "stdout",
     "output_type": "stream",
     "text": [
      "Accuracy Combined model: \n",
      "52.6525\n",
      "Accuracy Combined model: \n",
      "54.1258\n",
      "Accuracy Combined model: \n",
      "53.3563\n",
      "Accuracy Combined model: \n",
      "53.8339\n",
      "Accuracy Combined model: \n",
      "53.1706\n",
      "\n",
      "Accuracy Cross Validations: \n",
      "[52.6525 54.1258 53.3563 53.8339 53.1706]\n",
      "\n",
      "Mean Accuracy: \n",
      "53.42782\n"
     ]
    }
   ],
   "source": [
    "kfold_1 = KFold(n_splits=5, random_state=None, shuffle=False)\n",
    "kfold_1.get_n_splits(X_total)\n",
    "Accuracy_vec_hier = np.array([])\n",
    "for train, test in kfold_1.split(X_total):\n",
    "    X_train_2 = X_total[train]\n",
    "    X_test_2 = X_total[test]\n",
    "    y_train_2 = np.array(y_total[train])\n",
    "    y_test_2 = np.array(y_total[test])\n",
    "\n",
    "    predict_hier = hierarchy_pred(X_train_2, y_train_2, X_test_2, base_learner = 'NB')\n",
    "    print(\"Accuracy Combined model: \")\n",
    "    Acc_h = np.round(np.mean(predict_hier == y_test_2)*100,4)\n",
    "    print(Acc_h)\n",
    "    Accuracy_vec_hier = np.concatenate((Accuracy_vec_hier, Acc_h), axis = None)\n",
    "print(\"\")\n",
    "print(\"Accuracy Cross Validations: \")\n",
    "print(Accuracy_vec_hier)\n",
    "print(\"\")\n",
    "print(\"Mean Accuracy: \")\n",
    "Acc_mean_hier = np.mean(Accuracy_vec_hier)\n",
    "print(Acc_mean_hier)"
   ]
  },
  {
   "cell_type": "code",
   "execution_count": 47,
   "metadata": {},
   "outputs": [
    {
     "name": "stdout",
     "output_type": "stream",
     "text": [
      "Accuracy 2nd Hierarchical model with Naive Bayes: \n",
      "48.8848\n"
     ]
    }
   ],
   "source": [
    "predict_hier = hierarchy_pred(X_train, y_train, X_test, base_learner = 'NB')\n",
    "print(\"Accuracy 2nd Hierarchical model with Naive Bayes: \")\n",
    "Acc_h = np.round(np.mean(predict_hier == y_test)*100,4)\n",
    "print(Acc_h)"
   ]
  },
  {
   "cell_type": "markdown",
   "metadata": {},
   "source": [
    "2. Base learner = SVM"
   ]
  },
  {
   "cell_type": "code",
   "execution_count": 48,
   "metadata": {
    "scrolled": true
   },
   "outputs": [
    {
     "name": "stdout",
     "output_type": "stream",
     "text": [
      "Accuracy Combined model: \n",
      "50.504\n",
      "Accuracy Combined model: \n",
      "52.5604\n",
      "Accuracy Combined model: \n",
      "50.8623\n",
      "Accuracy Combined model: \n",
      "51.6848\n",
      "Accuracy Combined model: \n",
      "51.9501\n",
      "\n",
      "Accuracy Cross Validations: \n",
      "[50.504  52.5604 50.8623 51.6848 51.9501]\n",
      "\n",
      "Mean Accuracy: \n",
      "51.51232\n"
     ]
    }
   ],
   "source": [
    "kfold_1 = KFold(n_splits=5, random_state=None, shuffle=False)\n",
    "kfold_1.get_n_splits(X_total)\n",
    "Accuracy_vec_hier = np.array([])\n",
    "for train, test in kfold_1.split(X_total):\n",
    "    X_train_2 = X_total[train]\n",
    "    X_test_2 = X_total[test]\n",
    "    y_train_2 = np.array(y_total[train])\n",
    "    y_test_2 = np.array(y_total[test])\n",
    "\n",
    "    predict_hier = hierarchy_pred(X_train_2, y_train_2, X_test_2, base_learner = 'SVM')\n",
    "    print(\"Accuracy Combined model: \")\n",
    "    Acc_h = np.round(np.mean(predict_hier == y_test_2)*100,4)\n",
    "    print(Acc_h)\n",
    "    Accuracy_vec_hier = np.concatenate((Accuracy_vec_hier, Acc_h), axis = None)\n",
    "print(\"\")\n",
    "print(\"Accuracy Cross Validations: \")\n",
    "print(Accuracy_vec_hier)\n",
    "print(\"\")\n",
    "print(\"Mean Accuracy: \")\n",
    "Acc_mean_hier = np.mean(Accuracy_vec_hier)\n",
    "print(Acc_mean_hier)"
   ]
  },
  {
   "cell_type": "code",
   "execution_count": 49,
   "metadata": {},
   "outputs": [
    {
     "name": "stdout",
     "output_type": "stream",
     "text": [
      "Accuracy 2nd Hierarchical model with SVM: \n",
      "46.6543\n"
     ]
    }
   ],
   "source": [
    "predict_hier = hierarchy_pred(X_train, y_train, X_test, base_learner = 'SVM')\n",
    "print(\"Accuracy 2nd Hierarchical model with SVM: \")\n",
    "Acc_h = np.round(np.mean(predict_hier == y_test)*100,4)\n",
    "print(Acc_h)"
   ]
  },
  {
   "cell_type": "markdown",
   "metadata": {},
   "source": [
    "3. Base learner = Logistic Regression"
   ]
  },
  {
   "cell_type": "code",
   "execution_count": 50,
   "metadata": {
    "scrolled": false
   },
   "outputs": [
    {
     "name": "stdout",
     "output_type": "stream",
     "text": [
      "Accuracy Combined model: \n",
      "50.1061\n",
      "Accuracy Combined model: \n",
      "52.5338\n",
      "Accuracy Combined model: \n",
      "50.4378\n",
      "Accuracy Combined model: \n",
      "51.446\n",
      "Accuracy Combined model: \n",
      "52.1358\n",
      "\n",
      "Accuracy Cross Validations: \n",
      "[50.1061 52.5338 50.4378 51.446  52.1358]\n",
      "\n",
      "Mean Accuracy: \n",
      "51.3319\n"
     ]
    }
   ],
   "source": [
    "kfold_1 = KFold(n_splits=5, random_state=None, shuffle=False)\n",
    "kfold_1.get_n_splits(X_total)\n",
    "Accuracy_vec_hier = np.array([])\n",
    "for train, test in kfold_1.split(X_total):\n",
    "    X_train_2 = X_total[train]\n",
    "    X_test_2 = X_total[test]\n",
    "    y_train_2 = np.array(y_total[train])\n",
    "    y_test_2 = np.array(y_total[test])\n",
    "\n",
    "    predict_hier = hierarchy_pred(X_train_2, y_train_2, X_test_2, base_learner = 'LR')\n",
    "    print(\"Accuracy Combined model: \")\n",
    "    Acc_h = np.round(np.mean(predict_hier == y_test_2)*100,4)\n",
    "    print(Acc_h)\n",
    "    Accuracy_vec_hier = np.concatenate((Accuracy_vec_hier, Acc_h), axis = None)\n",
    "print(\"\")\n",
    "print(\"Accuracy Cross Validations: \")\n",
    "print(Accuracy_vec_hier)\n",
    "print(\"\")\n",
    "print(\"Mean Accuracy: \")\n",
    "Acc_mean_hier = np.mean(Accuracy_vec_hier)\n",
    "print(Acc_mean_hier)"
   ]
  },
  {
   "cell_type": "code",
   "execution_count": 51,
   "metadata": {},
   "outputs": [
    {
     "name": "stdout",
     "output_type": "stream",
     "text": [
      "Accuracy 2nd Hierarchical model with Logistic Regression: \n",
      "46.4286\n"
     ]
    }
   ],
   "source": [
    "predict_hier = hierarchy_pred(X_train, y_train, X_test, base_learner = 'LR')\n",
    "print(\"Accuracy 2nd Hierarchical model with Logistic Regression: \")\n",
    "Acc_h = np.round(np.mean(predict_hier == y_test)*100,4)\n",
    "print(Acc_h)"
   ]
  },
  {
   "cell_type": "markdown",
   "metadata": {},
   "source": [
    "### Data distribution"
   ]
  },
  {
   "cell_type": "code",
   "execution_count": 56,
   "metadata": {},
   "outputs": [
    {
     "name": "stdout",
     "output_type": "stream",
     "text": [
      "                 Target name Frequency\n",
      "0                alt.atheism    4.2425\n",
      "1              comp.graphics    5.1617\n",
      "2    comp.os.ms-windows.misc    5.2236\n",
      "3   comp.sys.ibm.pc.hardware    5.2148\n",
      "4      comp.sys.mac.hardware    5.1087\n",
      "5             comp.windows.x    5.2413\n",
      "6               misc.forsale    5.1706\n",
      "7                  rec.autos    5.2501\n",
      "8            rec.motorcycles    5.2855\n",
      "9         rec.sport.baseball    5.2766\n",
      "10          rec.sport.hockey    5.3032\n",
      "11                 sci.crypt     5.259\n",
      "12           sci.electronics    5.2236\n",
      "13                   sci.med    5.2501\n",
      "14                 sci.space    5.2413\n",
      "15    soc.religion.christian    5.2943\n",
      "16        talk.politics.guns    4.8259\n",
      "17     talk.politics.mideast     4.985\n",
      "18        talk.politics.misc      4.11\n",
      "19        talk.religion.misc    3.3322\n"
     ]
    },
    {
     "data": {
      "image/png": "[encoded data removed]",
      "text/plain": [
       "<Figure size 720x720 with 1 Axes>"
      ]
     },
     "metadata": {},
     "output_type": "display_data"
    }
   ],
   "source": [
    "target_names = np.array(train_data.target_names)\n",
    "freq_names = (np.zeros((target_names.size,2))).astype('unicode')\n",
    "freq_names[:,0] = target_names\n",
    "for i in np.arange(target_names.size):\n",
    "    freq_names[i,1] = np.round(np.mean(y_train == i)*100,4)\n",
    "Train_Distribution = pd.DataFrame(freq_names, columns = ['Target name','Frequency'])\n",
    "print(Train_Distribution)\n",
    "\n",
    "fig1, ax1 = plt.subplots(figsize = (10,10))\n",
    "ax1.pie(freq_names[:,1], labels=freq_names[:,0], autopct='%1.1f%%',\n",
    "        shadow=True, startangle=90)# Equal aspect ratio ensures that pie is drawn as a circle\n",
    "ax1.axis('equal')  \n",
    "plt.title(\"Training subset distribution percentage\", fontsize = 24) \n",
    "plt.tight_layout()\n",
    "plt.show()"
   ]
  },
  {
   "cell_type": "code",
   "execution_count": 57,
   "metadata": {},
   "outputs": [
    {
     "name": "stdout",
     "output_type": "stream",
     "text": [
      "                 Target name Frequency\n",
      "0                alt.atheism    4.2353\n",
      "1              comp.graphics    5.1646\n",
      "2    comp.os.ms-windows.misc     5.231\n",
      "3   comp.sys.ibm.pc.hardware    5.2045\n",
      "4      comp.sys.mac.hardware    5.1115\n",
      "5             comp.windows.x    5.2443\n",
      "6               misc.forsale    5.1779\n",
      "7                  rec.autos    5.2576\n",
      "8            rec.motorcycles    5.2841\n",
      "9         rec.sport.baseball    5.2708\n",
      "10          rec.sport.hockey    5.2974\n",
      "11                 sci.crypt    5.2576\n",
      "12           sci.electronics    5.2177\n",
      "13                   sci.med    5.2576\n",
      "14                 sci.space     5.231\n",
      "15    soc.religion.christian    5.2841\n",
      "16        talk.politics.guns    4.8327\n",
      "17     talk.politics.mideast     4.992\n",
      "18        talk.politics.misc    4.1158\n",
      "19        talk.religion.misc    3.3324\n"
     ]
    },
    {
     "data": {
      "image/png": "[encoded data removed]",
      "text/plain": [
       "<Figure size 720x720 with 1 Axes>"
      ]
     },
     "metadata": {},
     "output_type": "display_data"
    }
   ],
   "source": [
    "target_test_names = np.array(test_data.target_names)\n",
    "freq_test_names = (np.zeros((target_test_names.size,2))).astype('unicode')\n",
    "freq_test_names[:,0] = target_test_names\n",
    "for i in np.arange(target_test_names.size):\n",
    "    freq_test_names[i,1] = np.round(np.mean(y_test == i)*100,4)\n",
    "Test_Distribution = pd.DataFrame(freq_test_names, columns = ['Target name','Frequency'])\n",
    "print(Test_Distribution)\n",
    "\n",
    "fig2, ax2 = plt.subplots(figsize = (10,10))\n",
    "ax2.pie(freq_test_names[:,1], labels=freq_test_names[:,0], autopct='%1.1f%%',\n",
    "        shadow=True, startangle=90)# Equal aspect ratio ensures that pie is drawn as a circle\n",
    "ax2.axis('equal')  \n",
    "plt.title(\"Test subset distribution percentage\", fontsize = 24) \n",
    "plt.tight_layout()\n",
    "plt.show()"
   ]
  }
 ],
 "metadata": {
  "kernelspec": {
   "display_name": "Python 3",
   "language": "python",
   "name": "python3"
  },
  "language_info": {
   "codemirror_mode": {
    "name": "ipython",
    "version": 3
   },
   "file_extension": ".py",
   "mimetype": "text/x-python",
   "name": "python",
   "nbconvert_exporter": "python",
   "pygments_lexer": "ipython3",
   "version": "3.7.4"
  }
 },
 "nbformat": 4,
 "nbformat_minor": 2
}
